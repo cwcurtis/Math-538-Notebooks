{
 "cells": [
  {
   "cell_type": "code",
   "execution_count": 1,
   "metadata": {
    "collapsed": true
   },
   "outputs": [],
   "source": [
    "import numpy as np\n",
    "import matplotlib.pyplot as plt\n",
    "%matplotlib inline"
   ]
  },
  {
   "cell_type": "markdown",
   "metadata": {},
   "source": [
    "** Problem 1 **: 5pts - 4.7"
   ]
  },
  {
   "cell_type": "markdown",
   "metadata": {},
   "source": [
    "** Problem 2 **: 5pts - 4.10"
   ]
  },
  {
   "cell_type": "markdown",
   "metadata": {},
   "source": [
    "** Problem 3 **: 10pts - Computer Experiment 4.4.  Reproduce Figure 4.16."
   ]
  },
  {
   "cell_type": "markdown",
   "metadata": {},
   "source": [
    "** Problem 4 **: 5pts - Given for a measure $m$ that if $\\{A_{j}\\}_{j=1}^{\\infty}$ is a disjoint sequence of sets that \n",
    "\n",
    "$$\n",
    "m\\left(\\bigcup_{j=1}^{\\infty} A_{j} \\right) = \\sum_{j=1}^{\\infty} m(A_{j})\n",
    "$$\n",
    "\n",
    "show that if $A \\subset B$ then $m(A)\\leq m(B)$.  Hint, think of \n",
    "$$\n",
    "B = (A\\cap B) \\cup (A^{c}\\cap B).\n",
    "$$"
   ]
  },
  {
   "cell_type": "markdown",
   "metadata": {},
   "source": [
    "** Problem 5 **: 5pts - Show that if $m^{\\ast}(A)=0$ that \n",
    "\n",
    "$$\n",
    "m^{\\ast}(A\\cup B) = m^{\\ast}(B).\n",
    "$$\n",
    "\n",
    "Hint, prove two inequalities \n",
    "\n",
    "$$\n",
    "m^{\\ast}(B) \\leq m^{\\ast}(A\\cup B), ~ m^{\\ast}(A\\cup B) \\leq m^{\\ast}(B).\n",
    "$$"
   ]
  },
  {
   "cell_type": "code",
   "execution_count": null,
   "metadata": {
    "collapsed": true
   },
   "outputs": [],
   "source": []
  }
 ],
 "metadata": {
  "kernelspec": {
   "display_name": "Python 2",
   "language": "python",
   "name": "python2"
  },
  "language_info": {
   "codemirror_mode": {
    "name": "ipython",
    "version": 2
   },
   "file_extension": ".py",
   "mimetype": "text/x-python",
   "name": "python",
   "nbconvert_exporter": "python",
   "pygments_lexer": "ipython2",
   "version": "2.7.13"
  }
 },
 "nbformat": 4,
 "nbformat_minor": 2
}
