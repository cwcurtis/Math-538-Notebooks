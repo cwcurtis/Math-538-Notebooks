{
 "cells": [
  {
   "cell_type": "code",
   "execution_count": 28,
   "metadata": {
    "collapsed": true
   },
   "outputs": [],
   "source": [
    "import numpy as np\n",
    "import matplotlib.pyplot as plt\n",
    "%matplotlib inline"
   ]
  },
  {
   "cell_type": "markdown",
   "metadata": {},
   "source": [
    "** Problem 1 **: 5pts - 4.7"
   ]
  },
  {
   "cell_type": "markdown",
   "metadata": {},
   "source": [
    "** Problem 2 **: 5pts - 4.10"
   ]
  },
  {
   "cell_type": "markdown",
   "metadata": {},
   "source": [
    "** Problem 3 **: 10pts - Computer Experiment 4.4.  Reproduce Figure 4.16."
   ]
  },
  {
   "cell_type": "code",
   "execution_count": 91,
   "metadata": {},
   "outputs": [],
   "source": [
    "# An iterated map approach to generating the Sierpinski gasket\n",
    "\n",
    "def s_ifun(xpt):\n",
    "    av = np.array([0.,0.])\n",
    "    bv = np.array([.5,np.sqrt(3)/2.])\n",
    "    cv = np.array([1.,0.])\n",
    "    trd = 1./3.\n",
    "    vval = np.random.uniform(0.,1.,1)\n",
    "    \n",
    "    if vval <= trd:\n",
    "        xpt = xpt/2.\n",
    "    elif trd < vval <= 2.*trd:\n",
    "        xpt = (bv+xpt)/2.        \n",
    "    else:\n",
    "        xpt = (cv+xpt)/2.\n",
    "    return xpt\n",
    "    \n",
    "def sierpinski_gasket_maker(niter):\n",
    "    xpt = np.array([.5,.25])\n",
    "    ptlst = np.zeros((1,2))\n",
    "    for jj in xrange(0,niter):\n",
    "        xpt = s_ifun(xpt)\n",
    "        lpt = np.zeros((1,2))\n",
    "        lpt[0,:] = xpt\n",
    "        ptlst = np.append(ptlst,lpt,axis=0)\n",
    "    return ptlst\n",
    "        \n",
    "def sierpinski_gasket_box_cnt(niter,bscl):\n",
    "    ptlst = sierpinski_gasket_maker(niter)\n",
    "    xvals = ptlst[:,0]\n",
    "    yvals = ptlst[:,1]\n",
    "    # Given that we know where the Sierpinski gasket is in space, we can do the box counting in a very efficient way.\n",
    "    Nbx = int(np.ceil(1./bscl))\n",
    "    Nby = int(np.ceil(np.sqrt(3)/2.*1./bscl))\n",
    "    bcnt = 0.\n",
    "    \n",
    "    for jj in xrange(1,Nbx):\n",
    "        \n",
    "        indsxl = (jj-1)*bscl <= xvals\n",
    "        indsxr =  xvals < jj*bscl\n",
    "        indsx = indsxl*indsxr\n",
    "        \n",
    "        kk = 1\n",
    "        yplc = 0.\n",
    "        crxval = jj*bscl\n",
    "        \n",
    "        # Again, we know when to stop in y, so let's make this as efficient as possible.\n",
    "        if crxval <=.5:\n",
    "            ymax = np.sqrt(3.)*crxval\n",
    "        else:\n",
    "            ymax = np.sqrt(3.)*(1.-crxval)\n",
    "            \n",
    "        while yplc <= ymax:\n",
    "            indsyl = (kk-1)*bscl <= yvals\n",
    "            indsyr =  yvals < kk*bscl\n",
    "            indsy = indsyl*indsyr\n",
    "                \n",
    "            if np.sum(indsx*indsy)>0:            \n",
    "                bcnt += 1.\n",
    "    \n",
    "            yplc += bscl\n",
    "            kk += 1                \n",
    "            \n",
    "    bcntdim = np.log(bcnt)/np.log(1./bscl)\n",
    "    plt.scatter(xvals,yvals,s=.1)\n",
    "    print \"Computed box counting dimension is %1.15f:\" % bcntdim    \n",
    "    print \"Actual box counting dimension is %1.15f:\" % (np.log(3.)/np.log(2.))"
   ]
  },
  {
   "cell_type": "code",
   "execution_count": 93,
   "metadata": {},
   "outputs": [
    {
     "name": "stdout",
     "output_type": "stream",
     "text": [
      "Computed box counting dimension is 1.608596321980116:\n",
      "Actual box counting dimension is 1.584962500721156:\n"
     ]
    },
    {
     "data": {
      "image/png": "[encoded data removed]",
      "text/plain": [
       "<matplotlib.figure.Figure at 0xf787eb8>"
      ]
     },
     "metadata": {},
     "output_type": "display_data"
    }
   ],
   "source": [
    "sierpinski_gasket_box_cnt(64000,.002)"
   ]
  },
  {
   "cell_type": "markdown",
   "metadata": {},
   "source": [
    "** Problem 4 **: 5pts - Given for a measure $m$ that if $\\{A_{j}\\}_{j=1}^{\\infty}$ is a disjoint sequence of sets that \n",
    "\n",
    "$$\n",
    "m\\left(\\bigcup_{j=1}^{\\infty} A_{j} \\right) = \\sum_{j=1}^{\\infty} m(A_{j})\n",
    "$$\n",
    "\n",
    "show that if $A \\subset B$ then $m(A)\\leq m(B)$.  Hint, think of \n",
    "$$\n",
    "B = (A\\cap B) \\cup (A^{c}\\cap B).\n",
    "$$"
   ]
  },
  {
   "cell_type": "markdown",
   "metadata": {},
   "source": [
    "** Problem 5 **: 5pts - Show that if $m^{\\ast}(A)=0$ that \n",
    "\n",
    "$$\n",
    "m^{\\ast}(A\\cup B) = m^{\\ast}(B).\n",
    "$$\n",
    "\n",
    "Hint, prove two inequalities \n",
    "\n",
    "$$\n",
    "m^{\\ast}(B) \\leq m^{\\ast}(A\\cup B), ~ m^{\\ast}(A\\cup B) \\leq m^{\\ast}(B).\n",
    "$$"
   ]
  },
  {
   "cell_type": "code",
   "execution_count": null,
   "metadata": {
    "collapsed": true
   },
   "outputs": [],
   "source": []
  }
 ],
 "metadata": {
  "kernelspec": {
   "display_name": "Python 2",
   "language": "python",
   "name": "python2"
  },
  "language_info": {
   "codemirror_mode": {
    "name": "ipython",
    "version": 2
   },
   "file_extension": ".py",
   "mimetype": "text/x-python",
   "name": "python",
   "nbconvert_exporter": "python",
   "pygments_lexer": "ipython2",
   "version": "2.7.13"
  }
 },
 "nbformat": 4,
 "nbformat_minor": 2
}
