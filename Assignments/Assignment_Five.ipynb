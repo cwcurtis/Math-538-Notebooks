{
 "cells": [
  {
   "cell_type": "code",
   "execution_count": 1,
   "metadata": {
    "collapsed": true
   },
   "outputs": [],
   "source": [
    "import numpy as np\n",
    "import matplotlib.pyplot as plt\n",
    "%matplotlib inline"
   ]
  },
  {
   "cell_type": "markdown",
   "metadata": {},
   "source": [
    "# Assignment 5"
   ]
  },
  {
   "cell_type": "markdown",
   "metadata": {},
   "source": [
    "** Problem 1 ** - 5 pts: Problem 1.6.  Use 0/1 instead of L/R for your itineraries.  "
   ]
  },
  {
   "cell_type": "markdown",
   "metadata": {},
   "source": [
    "** Problem 2 ** - 5 pts: Problem 1.7 a).  "
   ]
  },
  {
   "cell_type": "markdown",
   "metadata": {},
   "source": [
    "** Problem 3 ** - 5 pts: Identify all sequences in $\\Sigma_{2}$ which are periodic points of period $3$ for the shift map $\\sigma$.  "
   ]
  },
  {
   "cell_type": "markdown",
   "metadata": {
    "collapsed": true
   },
   "source": [
    "** Problem 4 ** - 5 pts: Letting $T_{2}:\\Sigma_{2}\\rightarrow\\Sigma_{2}$ be the representation of the tent map in symbol space, find all period 3 periodic orbits of $T_{2}$.  "
   ]
  },
  {
   "cell_type": "markdown",
   "metadata": {},
   "source": [
    "** Problem 5 ** 10 pts: Let the cubic map be given by \n",
    "\n",
    "$$\n",
    "f_{a} = ax^{3} + (1-a)x.\n",
    "$$\n",
    "\n",
    "a) Determine for which range of values $a$ that $f:[-1,1]\\rightarrow [-1,1]$.  \n",
    "\n",
    "b) Find all fixed points and their stability over the range of values $a$ determined in part a).\n",
    "\n",
    "c) Find all 2-cycles.  This is an evil problem in synthetic division, so maybe think about using a symbolic software package like SAGE to help you do this.  \n",
    "\n",
    "d) Generate a bifurcation plot for the cubic map over the range of $a$ values in part a).  At what values $a$ do you see the beginning of period doubling?  Chaotic dynamics?  Provide separate plots to illustrate key points. "
   ]
  },
  {
   "cell_type": "code",
   "execution_count": null,
   "metadata": {
    "collapsed": true
   },
   "outputs": [],
   "source": []
  }
 ],
 "metadata": {
  "kernelspec": {
   "display_name": "Python 2",
   "language": "python",
   "name": "python2"
  },
  "language_info": {
   "codemirror_mode": {
    "name": "ipython",
    "version": 2
   },
   "file_extension": ".py",
   "mimetype": "text/x-python",
   "name": "python",
   "nbconvert_exporter": "python",
   "pygments_lexer": "ipython2",
   "version": "2.7.13"
  }
 },
 "nbformat": 4,
 "nbformat_minor": 2
}
