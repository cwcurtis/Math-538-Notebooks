{
 "cells": [
  {
   "cell_type": "code",
   "execution_count": 1,
   "metadata": {
    "collapsed": true
   },
   "outputs": [],
   "source": [
    "import numpy as np\n",
    "import matplotlib.pyplot as plt\n",
    "%matplotlib inline"
   ]
  },
  {
   "cell_type": "markdown",
   "metadata": {},
   "source": [
    "# Assignment 5"
   ]
  },
  {
   "cell_type": "markdown",
   "metadata": {},
   "source": [
    "** Problem 1 ** - 5 pts: Problem 1.6.  Use 0/1 instead of L/R for your itineraries.  "
   ]
  },
  {
   "cell_type": "markdown",
   "metadata": {},
   "source": [
    "** Problem 2 ** - 5 pts: Problem 1.7 a).  "
   ]
  },
  {
   "cell_type": "markdown",
   "metadata": {},
   "source": [
    "** Problem 3 ** - 5 pts: Identify all sequences in $\\Sigma_{2}$ which are periodic points of period $3$ for the shift map $\\sigma$.  "
   ]
  },
  {
   "cell_type": "markdown",
   "metadata": {
    "collapsed": true
   },
   "source": [
    "** Problem 4 ** - 5 pts: Letting $T_{2}:\\Sigma_{2}\\rightarrow\\Sigma_{2}$ be the representation of the tent map in symbol space, find all period 3 periodic orbits of $T_{2}$.  "
   ]
  },
  {
   "cell_type": "markdown",
   "metadata": {},
   "source": [
    "** Problem 5 ** 10 pts: Let the cubic map be given by \n",
    "\n",
    "$$\n",
    "f_{a} = ax^{3} + (1-a)x.\n",
    "$$\n",
    "\n",
    "a) Determine for which range of values $a$ that $f:[-1,1]\\rightarrow [-1,1]$.  \n",
    "\n",
    "b) Find all fixed points and their stability over the range of values $a$ determined in part a).\n",
    "\n",
    "c) Find all 2-cycles.  This is an evil problem in synthetic division, so maybe think about using a symbolic software package like SAGE to help you do this.  \n",
    "\n",
    "d) Generate a bifurcation plot for the cubic map over the range of $a$ values in part a).  At what values $a$ do you see the beginning of period doubling?  Chaotic dynamics?  Provide separate plots to illustrate key points. "
   ]
  },
  {
   "cell_type": "markdown",
   "metadata": {
    "collapsed": true
   },
   "source": [
    "_ Answer to 5 _: So, we readily see that $f_{a}(\\pm 1)=\\pm 1$, so in order to be a map from $[-1,1]$ to $[-1,1]$, we need to make sure the critical points of $f_{a}$ are bounded.  To do this, we note that the critical points are readily found to be \n",
    "\n",
    "$$\n",
    "x_{\\ast,\\pm} = \\pm \\sqrt{\\frac{1}{3}\\left(1 - \\frac{1}{a}\\right)},\n",
    "$$\n",
    "\n",
    "which is defined for $a>1$ and $a<0$.  Likewise, we see that the critical points are in the interval $[-1,1]$ for $a>1$ and $a\\leq -1/2$. Thus, we immediately see that $-1/2 \\leq a \\leq 1$ is in our region which ensures $f_{a}:[0,1]\\rightarrow[0,1]$ since there are no critical points of the map in this region for said parameter values.\n",
    "\n",
    "For $a>1$, we see that \n",
    "\n",
    "$$\n",
    "f(x_{\\ast,\\pm}) = \\mp \\frac{2}{3}(a-1)\\sqrt{\\frac{a-1}{3a}}, \n",
    "$$\n",
    "\n",
    "so that the inequality $f(x_{\\ast,+})\\leq 1$ becomes \n",
    "\n",
    "$$\n",
    "\\left(a-1\\right)^{3}\\leq \\frac{27}{4}a,\n",
    "$$\n",
    "\n",
    "which holds up to $a=4$.  \n",
    "\n",
    "For $a\\leq -1/2$, the equivalent inequality would be \n",
    "\n",
    "$$\n",
    "\\left(1+|a|\\right)^{3}\\leq \\frac{27}{4}|a|,\n",
    "$$\n",
    "\n",
    "which does not hold for $a\\leq -1/2$.  Thus we have shown that for $a\\in [-1/2,4]$, $f_{a}:[-1,1]\\rightarrow[-1,1]$.  \n",
    "\n",
    "As for stability, the only fixed points are $0$ and $\\pm 1$.  We see that \n",
    "\n",
    "$$\n",
    "f'_{a}(0) = 1 - a\n",
    "$$\n",
    "\n",
    "and thus we have that $0$ is a stable fixed point for $0<a<2$.  \n",
    "\n",
    "As for $\\pm 1$, we have that \n",
    "\n",
    "$$\n",
    "f'_{a}(\\pm 1) = 1 + 2a,\n",
    "$$\n",
    "\n",
    "and thus, these are stable points for $-1/2 \\leq a \\leq 0$.  Thus, the interesting bifurcation theory within the scope of this problem is relative to the fixed point at $0$ for $a > 2$.  \n",
    "\n",
    "To wit, using the symmetry $f_{a}(-x)=-x$, we can look for those 2-cycles such that $x_{2}=-x_{1}$, or we look for the anti-fixed point \n",
    "\n",
    "$$\n",
    "f_{a}(x) = -x,\n",
    "$$\n",
    "\n",
    "which gives \n",
    "\n",
    "$$\n",
    "x = \\pm \\sqrt{\\frac{a-2}{a}}.\n",
    "$$\n",
    "\n",
    "We can test the two-cycles stability and see that it will be stable for $2<a<3$.  After that, in contrast to the logistic map, two stable 2-cycles appear.  Go figure.  You all basically found them.  "
   ]
  },
  {
   "cell_type": "code",
   "execution_count": null,
   "metadata": {
    "collapsed": true
   },
   "outputs": [],
   "source": [
    "\n"
   ]
  }
 ],
 "metadata": {
  "kernelspec": {
   "display_name": "Python 2",
   "language": "python",
   "name": "python2"
  },
  "language_info": {
   "codemirror_mode": {
    "name": "ipython",
    "version": 2
   },
   "file_extension": ".py",
   "mimetype": "text/x-python",
   "name": "python",
   "nbconvert_exporter": "python",
   "pygments_lexer": "ipython2",
   "version": "2.7.13"
  }
 },
 "nbformat": 4,
 "nbformat_minor": 2
}
