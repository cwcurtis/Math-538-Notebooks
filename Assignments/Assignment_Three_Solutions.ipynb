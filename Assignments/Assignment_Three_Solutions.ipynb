{
 "cells": [
  {
   "cell_type": "code",
   "execution_count": 1,
   "metadata": {
    "collapsed": true
   },
   "outputs": [],
   "source": [
    "import numpy as np\n",
    "import matplotlib.pyplot as plt\n",
    "%matplotlib inline"
   ]
  },
  {
   "cell_type": "markdown",
   "metadata": {},
   "source": [
    "# Assignment 3"
   ]
  },
  {
   "cell_type": "markdown",
   "metadata": {},
   "source": [
    "** Problem 1 ** - 5 pts: 1.1 from the textbook.  Yes, you can follow along in your notes, but make sure your explanation is crystal clear, and work out both the cases $a=1$ and $a=-1$.  Using Python, generate cobweb plots to illustrate key points. "
   ]
  },
  {
   "cell_type": "markdown",
   "metadata": {},
   "source": [
    "Using the formula we derived in class, we have for $L(x) = ax+b$, then\n",
    "\n",
    "$$\n",
    "L^{(n)}(x) = a^{n}x + \\frac{a^{n}-1}{a-1}b.\n",
    "$$\n",
    "\n",
    "We have a fixed point, for $b\\neq 0$ and $a\\neq 1$ at \n",
    "\n",
    "$$\n",
    "x_{\\ast} = \\frac{b}{1-a},\n",
    "$$\n",
    "\n",
    "and if $b=0$, then if $a\\neq 0$, we only have the fixed point $x_{\\ast}=0$, and if $a=1$, then every point is a fixed point.  \n",
    "\n",
    "Clearly if $|a|<1$, every point is attracted on to the fixed point.  Likewise, if $|a|>1$, every initial point is pushed away at an exponential rate.  For $a=1$, there is only a fixed point if $b=0$, but then every point is a fixed point, so in this sense you have stability in so far as the map does not have any real dynamics associated with it.  Otherwise, for $a=1$, $b\\neq0$, then \n",
    "\n",
    "$$\n",
    "L^{(n)}(x) = x + nb,\n",
    "$$\n",
    "\n",
    "so we move away from any point we start at.  Finally, if $a=-1$, we have a fixed point at $x_{\\ast} = b/2$, but \n",
    "\n",
    "$$\n",
    "L^{(n)}(x) = \\left\\{ \n",
    "\\begin{array}{rl}\n",
    "x & n ~ \\mbox{even}\\\\\n",
    "b - x & n ~ \\mbox{odd}\n",
    "\\end{array}\n",
    "\\right.\n",
    "$$\n",
    "\n",
    "so that, unless we start at the fixed point, we end up on a two-cycle.  Thus, we can think of the fixed point as stable in the sense that if $x_{0}\\approx b/2$, then $x_{n}$ does not move any further away from $x_{\\ast}$ as we iterate in $n$ since we just bounce up and down around the fixed point.  "
   ]
  },
  {
   "cell_type": "markdown",
   "metadata": {
    "collapsed": true
   },
   "source": [
    "** Problem 2 ** - 5 pts: 1.2"
   ]
  },
  {
   "cell_type": "markdown",
   "metadata": {},
   "source": [
    "a.)  So we see that we can rewrite \n",
    "\n",
    "$$\n",
    "\\left|f(x)\\right| = |x|\\left|1-x\\right|,\n",
    "$$\n",
    "\n",
    "so we see that \n",
    "\n",
    "$$\n",
    "\\left|f(x)\\right| < |x|, \n",
    "$$\n",
    "\n",
    "if \n",
    "\n",
    "$$\n",
    "0 < x < 2,\n",
    "$$\n",
    "\n",
    "so we see that $x_{\\ast}=0$ is attractive for those $x_{0}\\in[0,2)$, and repellant otherwise.  Thus we cannot say that the fixed point is strictly stable since it will repel points starting to the left of the fixed point.  \n",
    "\n",
    "b.)  Using a Taylor series, we get that \n",
    "\n",
    "$$\n",
    "\\left|\\tan(x)\\right| = |x|\\left|1 + \\frac{x^{2}}{3} + \\mathcal{O}(x^{4})\\right|,\n",
    "$$\n",
    "\n",
    "so for points that start near $x_{\\ast}=0$, we see that \n",
    "\n",
    "$$\n",
    "\\left|\\tan(x)\\right| > |x|\n",
    "$$\n",
    "\n",
    "and thus the fixed point is repellant for all points in a neighborhood of the origin.  \n",
    "\n",
    "c.)  I would choose $f(x)=x-x^{3}$ so that \n",
    "\n",
    "$$\n",
    "\\left|f(x)\\right| = \\left|x\\right|\\left|1-x^{2}\\right|,\n",
    "$$\n",
    "\n",
    "and thus for $|x|<1$, we have \n",
    "\n",
    "$$\n",
    "\\left|f(x)\\right|<|x|.  \n",
    "$$\n",
    "\n",
    "d.)  I would choose $f(x) = x + x^{5}$ so that \n",
    "\n",
    "$$\n",
    "\\left|f(x)\\right| = \\left|x\\right|\\left|1+x^{4}\\right|,\n",
    "$$\n",
    "\n",
    "and thus for all $x$ we have \n",
    "\n",
    "$$\n",
    "\\left|f(x)\\right|>|x|.  \n",
    "$$\n"
   ]
  },
  {
   "cell_type": "markdown",
   "metadata": {},
   "source": [
    "** Problem 3 ** - 5 pts: 1.3\n",
    "\n",
    "So we have $x_{\\ast}=0$ and \n",
    "\n",
    "$$\n",
    "\\left|f(x)\\right| = \\left|x\\right|\\left|1+x^{2}\\right|,\n",
    "$$\n",
    "\n",
    "so for all $x$ we have \n",
    "\n",
    "$$\n",
    "\\left|f(x)\\right| > |x|,\n",
    "$$\n",
    "\n",
    "thereby showing the fixed point is repellant.  "
   ]
  },
  {
   "cell_type": "markdown",
   "metadata": {},
   "source": [
    "** Problem 4 ** - 5 pts: 1.9 from the textbook.  This one is fun.  First you need to show that no matter how you choose $x_{0}\\geq0$, $1\\leq x_{n}\\leq 2$.  Then I recommend using the transformation\n",
    "\n",
    "$$\n",
    "\\tilde{x}_{n} = x_{n} - \\sqrt{2},\n",
    "$$\n",
    "\n",
    "to rewrite your map in terms of the variable $\\tilde{x}_{n}$.  Once you do that, using the implied bound on $\\tilde{x}_{n}$, prove another bound which ensures that $x_{n}\\rightarrow \\sqrt{2}$.  "
   ]
  },
  {
   "cell_type": "markdown",
   "metadata": {
    "collapsed": true
   },
   "source": [
    "a.) So, for $x_{0}\\geq 0$, we readily see that $x_{n}\\geq 0$.  Further we see that \n",
    "\n",
    "$$\n",
    "x_{n+1} = 1 + \\frac{1}{1 + x_{n}},\n",
    "$$\n",
    "\n",
    "so that if $x_{n}\\geq 0$, we must have \n",
    "\n",
    "$$\n",
    "1 \\leq x_{n+1} \\leq 2.  \n",
    "$$\n",
    "\n",
    "Thus if $x_{0}\\geq 0$, this implies $x_{n}\\in[1,2]$ for $n\\geq 1$.  We likewise see that the fixed points are $x_{\\ast}=\\pm \\sqrt{2}$, so if we want to study what happens around $x_{\\ast}=\\sqrt{2}$, we use the transformation\n",
    "\n",
    "$$\n",
    "x_{n} = \\sqrt{2} + \\tilde{x}_{n},\n",
    "$$\n",
    "\n",
    "which gives us\n",
    "\n",
    "$$\n",
    "\\tilde{x}_{n+1} = \\frac{(1-\\sqrt{2})\\tilde{x}_{n}}{1+\\sqrt{2}+\\tilde{x}_{n}},\n",
    "$$\n",
    "\n",
    "so that we can readily find, since $\\sqrt{2}+\\tilde{x}_{n}\\geq 1$ for $n\\geq 1$,\n",
    "\n",
    "$$\n",
    "\\left|\\tilde{x}_{n+1}\\right| \\leq \\frac{\\left|1-\\sqrt{2}\\right|}{2}\\left|\\tilde{x}_{n}\\right|,\n",
    "$$\n",
    "\n",
    "and thus \n",
    "\n",
    "$$\n",
    "\\lim_{n\\rightarrow \\infty}\\tilde{x}_{n} = 0,\n",
    "$$\n",
    "\n",
    "or\n",
    "\n",
    "$$\n",
    "\\lim_{n\\rightarrow \\infty} x_{n} = \\sqrt{2}.\n",
    "$$\n",
    "\n",
    "\n",
    "Therefore we have shown that $[0,\\infty)$ is in the basin of attraction for $x_{\\ast}=\\sqrt{2}$.\n",
    "\n",
    "b.) Without much fuss, we can show that if $x_{0}\\in(-1,0)$ and $x_{0}\\in(-\\infty,-2]$, then after one iteration we map to $[0,\\infty)$, and thus $x_{n}\\rightarrow \\sqrt{2}$.  So the only interesting interval really is $(-2,-1)$.  We do not include $-1$ since $x_{0}=-1$ is not defined.  \n",
    "\n",
    "Thus, what is interesting is to figure out which points within $(-2,-1)$ keep us in $(-2,-1)$.  These are the points $(-3/2,-4/3)$.  Note, $-4/3$ maps to $-1$, which maps to $-\\infty$, while $-3/2$ maps to $-2$, which maps to $0$.  \n",
    "\n",
    "So we can now further reduce our question to which points keep us in the interval $(-3/2,-4/3)$.  Note, the other fixed point $-\\sqrt{2}\\in(-3/2,-4/3)$.  Thus, repeating this argument, we get an ever shrinking sequence of intervals which collapse on to $x_{\\ast}=-\\sqrt{2}$, each of which has an endpoint that after a finite number of iterations maps to $-1$.  Thus, we see that aside from that sequence of points which map to $-1$, and the fixed point $x_{\\ast}=-\\sqrt{2}$, every other point in $(-2,-1)$ ultimately is attracted on to $\\sqrt{2}$.    "
   ]
  },
  {
   "cell_type": "code",
   "execution_count": null,
   "metadata": {
    "collapsed": true
   },
   "outputs": [],
   "source": []
  }
 ],
 "metadata": {
  "kernelspec": {
   "display_name": "Python 2",
   "language": "python",
   "name": "python2"
  },
  "language_info": {
   "codemirror_mode": {
    "name": "ipython",
    "version": 2
   },
   "file_extension": ".py",
   "mimetype": "text/x-python",
   "name": "python",
   "nbconvert_exporter": "python",
   "pygments_lexer": "ipython2",
   "version": "2.7.13"
  }
 },
 "nbformat": 4,
 "nbformat_minor": 2
}
