{
 "cells": [
  {
   "cell_type": "code",
   "execution_count": 1,
   "metadata": {
    "collapsed": true
   },
   "outputs": [],
   "source": [
    "import numpy as np\n",
    "import matplotlib.pyplot as plt\n",
    "%matplotlib inline"
   ]
  },
  {
   "cell_type": "markdown",
   "metadata": {},
   "source": [
    "# Assignment 3"
   ]
  },
  {
   "cell_type": "markdown",
   "metadata": {},
   "source": [
    "** Problem 1 ** - 5 pts: 1.1 from the textbook.  Yes, you can follow along in your notes, but make sure your explanation is crystal clear, and work out both the cases $a=1$ and $a=-1$.  Using Python, generate cobweb plots to illustrate key points. "
   ]
  },
  {
   "cell_type": "markdown",
   "metadata": {
    "collapsed": true
   },
   "source": [
    "** Problem 2 ** - 5 pts: 1.2"
   ]
  },
  {
   "cell_type": "markdown",
   "metadata": {},
   "source": [
    "** Problem 3 ** 5 pts: 1.3"
   ]
  },
  {
   "cell_type": "markdown",
   "metadata": {},
   "source": [
    "** Problem 4 ** - 5 pts: 1.9 from the textbook.  This one is fun.  First you need to show that no matter how you choose $x_{0}\\geq0$, $1\\leq x_{n}\\leq 2$.  Then I recommend using the transformation\n",
    "\n",
    "$$\n",
    "\\tilde{x}_{n} = x_{n} - \\sqrt{2},\n",
    "$$\n",
    "\n",
    "to rewrite your map in terms of the variable $\\tilde{x}_{n}$.  Once you do that, using the implied bound on $\\tilde{x}_{n}$, prove another bound which ensures that $x_{n}\\rightarrow \\sqrt{2}$.  "
   ]
  },
  {
   "cell_type": "code",
   "execution_count": null,
   "metadata": {
    "collapsed": true
   },
   "outputs": [],
   "source": []
  }
 ],
 "metadata": {
  "kernelspec": {
   "display_name": "Python 2",
   "language": "python",
   "name": "python2"
  },
  "language_info": {
   "codemirror_mode": {
    "name": "ipython",
    "version": 2
   },
   "file_extension": ".py",
   "mimetype": "text/x-python",
   "name": "python",
   "nbconvert_exporter": "python",
   "pygments_lexer": "ipython2",
   "version": "2.7.13"
  }
 },
 "nbformat": 4,
 "nbformat_minor": 2
}
