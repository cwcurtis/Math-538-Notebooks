{
 "cells": [
  {
   "cell_type": "markdown",
   "metadata": {},
   "source": [
    "# Assignment 1"
   ]
  },
  {
   "cell_type": "markdown",
   "metadata": {},
   "source": [
    "**Problem 1**: Let $\\left\\{a_{n}\\right\\}_{n=0}^{\\infty}$ be a sequence such that $a_{n}\\rightarrow 0$ as $n\\rightarrow \\infty$.  Show that the sequence of means $\\sigma_{n}$ defined by \n",
    "\n",
    "$$\n",
    "\\sigma_{n} = \\frac{1}{n}\\sum_{j=0}^{n}a_{j},\n",
    "$$\n",
    "\n",
    "converges to zero as well.  _ Hint _: So the trick here is to pick an $\\epsilon>0$ such that \n",
    "\n",
    "$$\n",
    "\\left|a_{n}\\right|<\\frac{\\epsilon}{2}, ~ n > N.  \n",
    "$$\n",
    "\n",
    "Now choose an $n>N$ and note that \n",
    "\n",
    "\\begin{align*}\n",
    "\\left|\\sigma_{n}\\right|\\leq & \\frac{1}{n}\\sum_{j=0}^{N}\\left|a_{j}\\right| + \\frac{1}{n}\\sum_{j=N+1}^{n}\\left|a_{j}\\right|,\\\\\n",
    "\\leq & \\frac{1}{n}\\sum_{j=0}^{N}\\left|a_{j}\\right| + \\frac{n-N}{n}\\frac{\\epsilon}{2},\\\\\n",
    "\\leq & \\frac{1}{n}\\sum_{j=0}^{N}\\left|a_{j}\\right| + \\frac{\\epsilon}{2}.\n",
    "\\end{align*}\n",
    "\n",
    "I leave the rest to you."
   ]
  },
  {
   "cell_type": "markdown",
   "metadata": {},
   "source": [
    "_ Answer to Problem 1 _:  So, with the hint, we then note that for a finite sum, we must have that \n",
    "$$\n",
    "\\sum_{j=0}^{N}\\left|a_{j}\\right| = M\n",
    "$$\n",
    "and so if we choose $\\tilde{N}$ such that $M/\\tilde{N} \\leq \\epsilon/2$, we must then have that \n",
    "$$\n",
    "\\left|\\sigma_{n}\\right| \\leq \\epsilon, ~ n > \\max{\\tilde{N},N}, \n",
    "$$\n",
    "and thus since $\\epsilon>0$ is arbitrary we have that \n",
    "$$\n",
    "\\lim_{n\\rightarrow \\infty} \\sigma_{n} = 0.\n",
    "$$"
   ]
  },
  {
   "cell_type": "markdown",
   "metadata": {},
   "source": [
    "**Problem 2**: Let $\\left\\{a_{n}\\right\\}_{n=0}^{\\infty}$.  By a least-upper bound, which we denote as \n",
    "\n",
    "$$\n",
    "\\sup_{m\\geq 0 }a_{m}, \n",
    "$$\n",
    "\n",
    "we mean an upper bound on all $a_{n}$ such that \n",
    "\n",
    "$$\n",
    "a_{n} \\leq \\sup_{m\\geq 0}a_{m},\n",
    "$$\n",
    "\n",
    "but with the added property that, if $\\left|\\sup_{m}a_{m}\\right|<\\infty$, then for all $\\epsilon>0$ there exists an $N$ such that \n",
    "\n",
    "$$\n",
    "\\sup_{m\\geq 0}a_{m} < a_{N} + \\epsilon.\n",
    "$$\n",
    "\n",
    "Thus, while the least upper bound is bigger than every element of the sequence, we can always find some element of the sequence that were it _ just _ a little bigger, would be bigger than the supremum, or least-upper bound. \n",
    "\n",
    "Using this definition, show that for a bounded, monotonically increasing sequence $\\left\\{a_{n}\\right\\}_{n=0}^{\\infty}$, which is to say a sequence such that \n",
    "\n",
    "$$\n",
    "a_{0}\\leq a_{1} \\leq a_{2} \\cdots, ~ \\left|\\sup_{m\\geq 0} a_{m}\\right| < \\infty,\n",
    "$$\n",
    "\n",
    "that\n",
    "\n",
    "$$\n",
    "\\lim_{n\\rightarrow\\infty} a_{n} = \\sup_{m\\geq0}a_{m}.\n",
    "$$"
   ]
  },
  {
   "cell_type": "markdown",
   "metadata": {},
   "source": [
    "_ Answer to Problem 2 _: Using definitions, we have that for any $\\epsilon>0$ there exists $N$ such that\n",
    "$$\n",
    "\\sup_{m\\geq 0} a_{m} < a_{N} + \\epsilon.\n",
    "$$\n",
    "By monotonicity, we have that $a_{N}\\leq a_{n}$ for $n\\geq N$, and thus \n",
    "$$\n",
    "a_{n}<\\sup_{m\\geq 0} a_{m} < a_{n} + \\epsilon, ~ n\\geq N,\n",
    "$$\n",
    "and so finally,\n",
    "$$\n",
    "\\left|a_{n} - \\sup_{m\\geq 0} a_{m} \\right| < \\epsilon, ~ n\\geq N,\n",
    "$$\n",
    "and the result is shown. "
   ]
  },
  {
   "cell_type": "markdown",
   "metadata": {},
   "source": [
    "**Problem 3**: Let $\\left\\{a_{n}\\right\\}_{n=0}^{\\infty}$.  By a greatest-lower bound, which we denote as \n",
    "\n",
    "$$\n",
    "\\inf_{m\\geq 0 }a_{m}, \n",
    "$$\n",
    "\n",
    "we mean a lower bound on all $a_{n}$ such that \n",
    "\n",
    "$$\n",
    "a_{n} \\geq \\inf_{m\\geq 0}a_{m},\n",
    "$$\n",
    "\n",
    "but with the added property that, if $\\left|\\inf_{m}a_{m}\\right|<\\infty$, then for all $\\epsilon>0$ there exists an $N$ such that \n",
    "\n",
    "$$\n",
    "a_{N} < \\inf_{m\\geq 0}a_{m} + \\epsilon.\n",
    "$$\n",
    "\n",
    "Thus, while the greatest-upper bound is smaller than every element of the sequence, we can always find some element of the sequence that were it _ just _ a little smaller, would be smaller than the infimum, or greatest-lower bound. \n",
    "\n",
    "Using this definition, show that for a bounded, monotonically decreasing sequence $\\left\\{a_{n}\\right\\}_{n=0}^{\\infty}$, which is to say a sequence such that \n",
    "\n",
    "$$\n",
    "a_{0}\\geq a_{1} \\geq a_{2} \\cdots, ~ \\left|\\inf_{m\\geq 0} a_{m}\\right| < \\infty,\n",
    "$$\n",
    "\n",
    "that\n",
    "\n",
    "$$\n",
    "\\lim_{n\\rightarrow\\infty} a_{n} = \\inf_{m\\geq0}a_{m}.\n",
    "$$"
   ]
  },
  {
   "cell_type": "markdown",
   "metadata": {},
   "source": [
    "_ Answer to Problem 3 _: Using definitions, we have that for any $\\epsilon>0$ there exists $N$ such that\n",
    "$$\n",
    "a_{N} < \\inf_{m\\geq 0}a_{m} + \\epsilon.\n",
    "$$\n",
    "By monotonicity, we have that $a_{N}\\geq a_{n}$ for $n\\geq N$, and thus \n",
    "$$\n",
    "a_{n} < \\inf_{m\\geq 0}a_{m} + \\epsilon, ~ n\\geq N,\n",
    "$$\n",
    "and so finally,\n",
    "$$\n",
    "\\left|a_{n} - \\inf_{m\\geq 0} a_{m} \\right| < \\epsilon, ~ n\\geq N,\n",
    "$$\n",
    "and the result is shown. "
   ]
  },
  {
   "cell_type": "markdown",
   "metadata": {},
   "source": [
    "**Problem 4**: Show that an arbitrary union of open sets in $\\mathbb{R}$ are open.  Likewise, show that an arbitrary intersection of closed sets in $\\mathbb{R}$ is closed.  Create an example of an infinite sequence of open sets such that their intersection is not open.  _ Hint _: Think about using the open intervals\n",
    "\n",
    "$$\n",
    "I_{n} = \\left(-\\frac{1}{n},\\frac{1}{n}\\right), ~ n\\geq1.\n",
    "$$"
   ]
  },
  {
   "cell_type": "markdown",
   "metadata": {},
   "source": [
    "_ Answer to Problem 4 _: Let $U_{\\gamma}$ be open, and let $U= \\cup_{\\gamma} U_{\\gamma}$.  Then for $x\\in U$, there must be a $\\gamma$ such that $x\\in U_{\\gamma}$, so that there is a $I_{\\epsilon}(x)\\subset U_{\\gamma}\\subset U$, and thus $U$ is open.  \n",
    "\n",
    "As for closed sets, if $C = \\cap_{\\gamma} C_{\\gamma}$, then $C^{c} = \\cup_{\\gamma}C_{\\gamma}^{c}$, and so if union of open is open, then intersection of closed is closed.  \n",
    "\n",
    "We can readily show that $\\{0\\} = \\cup_{n} I_{n}$, which is an isolated point, and thus not an open set, and thus the arbitrary intersection of open sets need not itself be open.   "
   ]
  },
  {
   "cell_type": "markdown",
   "metadata": {},
   "source": [
    "**Problem 5**: Show that $f(x)=\\sqrt{x}$ is continuous for any $x>0$.  _ Hint _: We need, for $y>0$, to start with the identity\n",
    "\n",
    "$$\n",
    "\\left|\\sqrt{y} - \\sqrt{x}\\right| = \\left|\\sqrt{y} - \\sqrt{x}\\right|\\frac{\\left|\\sqrt{y} + \\sqrt{x}\\right|}{\\left|\\sqrt{y} + \\sqrt{x}\\right|} = \\frac{|y-x|}{\\left|\\sqrt{y} + \\sqrt{x}\\right|}\n",
    "$$\n",
    "\n",
    "I leave the rest to you."
   ]
  },
  {
   "cell_type": "markdown",
   "metadata": {},
   "source": [
    "_ Answer to Problem 5 _:  Using the hint, we have \n",
    "$$\n",
    "\\left|\\sqrt{y} - \\sqrt{x}\\right| = \\left|\\sqrt{y} - \\sqrt{x}\\right|\\frac{\\left|\\sqrt{y} + \\sqrt{x}\\right|}{\\left|\\sqrt{y} + \\sqrt{x}\\right|} = \\frac{|y-x|}{\\left|\\sqrt{y} + \\sqrt{x}\\right|} < \\frac{|x-y|}{\\sqrt{x}} < \\epsilon,\n",
    "$$\n",
    "if we set $|x-y|< \\epsilon \\sqrt{x}$, or choose $\\delta = \\epsilon\\sqrt{x}$."
   ]
  }
 ],
 "metadata": {
  "kernelspec": {
   "display_name": "Python 2",
   "language": "python",
   "name": "python2"
  },
  "language_info": {
   "codemirror_mode": {
    "name": "ipython",
    "version": 2
   },
   "file_extension": ".py",
   "mimetype": "text/x-python",
   "name": "python",
   "nbconvert_exporter": "python",
   "pygments_lexer": "ipython2",
   "version": "2.7.13"
  }
 },
 "nbformat": 4,
 "nbformat_minor": 2
}
