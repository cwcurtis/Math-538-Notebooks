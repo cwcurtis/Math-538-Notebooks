{
 "cells": [
  {
   "cell_type": "code",
   "execution_count": 1,
   "metadata": {
    "collapsed": true
   },
   "outputs": [],
   "source": [
    "import numpy as np\n",
    "import matplotlib.pyplot as plt\n",
    "%matplotlib inline"
   ]
  },
  {
   "cell_type": "markdown",
   "metadata": {},
   "source": [
    "# Assignment 6"
   ]
  },
  {
   "cell_type": "markdown",
   "metadata": {},
   "source": [
    "** Problem 1 ** - 5 pts: Problem 2.3"
   ]
  },
  {
   "cell_type": "markdown",
   "metadata": {},
   "source": [
    "** Problem 2 ** - 5 pts: Problem 2.5"
   ]
  },
  {
   "cell_type": "markdown",
   "metadata": {
    "collapsed": true
   },
   "source": [
    "** Problem 3 ** - 10 pts: Adapt the code from class to find the Lyupanov exponent of the chaotic attractor of the Ikeda map\n",
    "\\begin{align}\n",
    "x_{n+1} = & 1 + u\\left(x_{n}\\cos(\\theta_{n}) - y_{n}\\sin(\\theta_{n}) \\right)\\\\\n",
    "y_{n+1} = & u\\left(x_{n}\\sin(\\theta_{n}) + y_{n}\\cos(\\theta_{n}) \\right),\n",
    "\\end{align}\n",
    "where $u = .9$ and \n",
    "$$\n",
    "\\theta_{n} = .4 - \\frac{6}{1 + x_{n}^{2} + y_{n}^{2}}.\n",
    "$$\n",
    "Again, give some justification for why you think you have converged onto your result and how you know you have chosen initial conditions in the basin of attraction of the attractor.  Also, feel free to use any symbolic program to compute the Jacobian of that map.    "
   ]
  },
  {
   "cell_type": "markdown",
   "metadata": {},
   "source": [
    "** Problem 4 ** 20 pts: Consider the following two-dimensional map $M$:\n",
    "\n",
    "$$\n",
    "M: \\left\\{\n",
    "\\begin{array}{rcl}\n",
    "x_{n+1}&=& y_n \\\\[1.0ex]\n",
    "y_{n+1}&=& (a+b\\,y_{n}^2)\\, y_n - x_n\n",
    "\\end{array}\n",
    "\\right.\n",
    "$$\n",
    "with $a=2.75$ and $b=-100$ (unless stated otherwise).\n",
    "\n",
    "A.\n",
    "\n",
    "(i) Find the fixed point(s) of $M$\n",
    "\n",
    "(ii) classify its(their) stability as a function of $a$ and $b$ \n",
    "(i.e., for arbitrary values of $(a,b)$).  \n",
    "\n",
    "(iii) What are the conditions on $a$ and $b$ such that the \n",
    "origin  (0,0) is a saddle point?\n",
    "\n",
    "B. \n",
    "\n",
    "(i) Find the period-2 orbit $\\{x_{2,1},x_{2,2}\\}$ \n",
    "as a function of $a$ and $b$. \n",
    "\n",
    "(ii) Plot the eigenvalues for this periodic orbit as a function of $a$ (yes, they depend only on $a$).\n",
    "\n",
    "(iii) Using this plot determine the stability of the period-2\n",
    "orbit as a function of $a$.\n",
    "\n",
    "(iv) In particular, what is its stability for $a=2.75$ and $b=-100$?\n",
    "\n",
    "C. \n",
    "\n",
    "(i) For arbitrary values of $(a,b)$, find the inverse of $M$. \n",
    "\n",
    "(ii) What is the similarity between $M$ and its inverse? \n",
    "[Compare $M^{-1}(y,x)$ with $M(x,y)$].\n",
    "What does this tell you about the symmetry\n",
    "of fixed points/orbits/manifolds/etc.? Explain.\n",
    "\n",
    "(iii) What happens to the map after applying the transformations: $(x,y)\\rightarrow (y,x)$ and $(x,y)\\rightarrow (-x,-y)$? i.e., compare $M(x,y)$ with $M(-y,-x)$.\n",
    "\n",
    "(iv) What does this tell you about the symmetries of orbits and stable and unstable manifolds? Is this congruent/related with your conclusions from (ii)?\n",
    "\n",
    "D. \n",
    "\n",
    "(i) Compute the stable and unstable manifolds of the origin ($a=2.75$ and $b=-100$) in the first quadrant. \n",
    "\n",
    "(ii) Comment on the nature (symmetries) of these manifolds. \n",
    "\n",
    "(iii) What is the behavior of orbits starting at points lying on the intersection between the stable and unstable manifolds? "
   ]
  },
  {
   "cell_type": "code",
   "execution_count": null,
   "metadata": {
    "collapsed": true
   },
   "outputs": [],
   "source": []
  }
 ],
 "metadata": {
  "kernelspec": {
   "display_name": "Python 2",
   "language": "python",
   "name": "python2"
  },
  "language_info": {
   "codemirror_mode": {
    "name": "ipython",
    "version": 2
   },
   "file_extension": ".py",
   "mimetype": "text/x-python",
   "name": "python",
   "nbconvert_exporter": "python",
   "pygments_lexer": "ipython2",
   "version": "2.7.13"
  }
 },
 "nbformat": 4,
 "nbformat_minor": 2
}
