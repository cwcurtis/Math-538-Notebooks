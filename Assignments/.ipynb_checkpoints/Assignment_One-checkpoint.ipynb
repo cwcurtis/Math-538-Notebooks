{
 "cells": [
  {
   "cell_type": "markdown",
   "metadata": {},
   "source": [
    "# Assignment 1"
   ]
  },
  {
   "cell_type": "markdown",
   "metadata": {},
   "source": [
    "**Problem 1**: Let $\\left\\{a_{n}\\right\\}_{n=0}^{\\infty}$ be a sequence such that $a_{n}\\rightarrow 0$ as $n\\rightarrow \\infty$.  Show that the sequence of means $\\sigma_{n}$ defined by \n",
    "\n",
    "$$\n",
    "\\sigma_{n} = \\frac{1}{n}\\sum_{j=0}^{n}a_{j},\n",
    "$$\n",
    "\n",
    "converges to zero as well.  _ Hint _: So the trick here is to pick an $\\epsilon>0$ such that \n",
    "\n",
    "$$\n",
    "\\left|a_{n}\\right|<\\frac{\\epsilon}{2}, ~ n > N.  \n",
    "$$\n",
    "\n",
    "Now choose an $n>N$ and note that \n",
    "\n",
    "\\begin{align*}\n",
    "\\sigma_{n}= & \\frac{1}{n}\\sum_{j=0}^{N}a_{j} + \\frac{1}{n}\\sum_{j=N+1}^{n}a_{j},\\\\\n",
    "\\leq & \\frac{1}{n}\\sum_{j=0}^{N}a_{j} + \\frac{n-N}{n}\\frac{\\epsilon}{2},\\\\\n",
    "\\leq & \\frac{1}{n}\\sum_{j=0}^{N}a_{j} + \\frac{\\epsilon}{2}.\n",
    "\\end{align*}\n",
    "\n",
    "I leave the rest to you."
   ]
  },
  {
   "cell_type": "markdown",
   "metadata": {},
   "source": [
    "_ Answer to Problem 1 _:"
   ]
  },
  {
   "cell_type": "markdown",
   "metadata": {},
   "source": [
    "**Problem 2**: Let $\\left\\{a_{n}\\right\\}_{n=0}^{\\infty}$.  By a least-upper bound, which we denote as \n",
    "\n",
    "$$\n",
    "\\sup_{m\\geq 0 }a_{m}, \n",
    "$$\n",
    "\n",
    "we mean an upper bound on all $a_{n}$ such that \n",
    "\n",
    "$$\n",
    "a_{n} \\leq \\sup_{m\\geq 0}a_{m},\n",
    "$$\n",
    "\n",
    "but with the added property that, if $\\left|\\sup_{m}a_{m}\\right|<\\infty$, then for all $\\epsilon>0$ there exists an $N$ such that \n",
    "\n",
    "$$\n",
    "\\sup_{m\\geq 0}a_{m} < a_{N} + \\epsilon.\n",
    "$$\n",
    "\n",
    "Thus, while the least upper bound is bigger than every element of the sequence, we can always find some element of the sequence that were it _ just _ a little bigger, would be bigger than the supremum, or least-upper bound. \n",
    "\n",
    "Using this definition, show that for a bounded, monotonically increasing sequence $\\left\\{a_{n}\\right\\}_{n=0}^{\\infty}$, which is to say a sequence such that \n",
    "\n",
    "$$\n",
    "a_{0}\\leq a_{1} \\leq a_{2} \\cdots, ~ \\left|\\sup_{m\\geq 0} a_{m}\\right| < \\infty,\n",
    "$$\n",
    "\n",
    "that\n",
    "\n",
    "$$\n",
    "\\lim_{n\\rightarrow\\infty} a_{n} = \\sup_{m\\geq0}a_{m}.\n",
    "$$"
   ]
  },
  {
   "cell_type": "markdown",
   "metadata": {},
   "source": [
    "_ Answer to Problem 2 _: "
   ]
  },
  {
   "cell_type": "markdown",
   "metadata": {},
   "source": [
    "**Problem 3**: Let $\\left\\{a_{n}\\right\\}_{n=0}^{\\infty}$.  By a greatest-lower bound, which we denote as \n",
    "\n",
    "$$\n",
    "\\inf_{m\\geq 0 }a_{m}, \n",
    "$$\n",
    "\n",
    "we mean a lower bound on all $a_{n}$ such that \n",
    "\n",
    "$$\n",
    "a_{n} \\geq \\inf_{m\\geq 0}a_{m},\n",
    "$$\n",
    "\n",
    "but with the added property that, if $\\left|\\inf_{m}a_{m}\\right|<\\infty$, then for all $\\epsilon>0$ there exists an $N$ such that \n",
    "\n",
    "$$\n",
    "a_{N} < \\inf_{m\\geq 0}a_{m} + \\epsilon.\n",
    "$$\n",
    "\n",
    "Thus, while the greatest-upper bound is smaller than every element of the sequence, we can always find some element of the sequence that were it _ just _ a little smaller, would be smaller than the infimum, or greatest-lower bound. \n",
    "\n",
    "Using this definition, show that for a bounded, monotonically decreasing sequence $\\left\\{a_{n}\\right\\}_{n=0}^{\\infty}$, which is to say a sequence such that \n",
    "\n",
    "$$\n",
    "a_{0}\\geq a_{1} \\geq a_{2} \\cdots, ~ \\left|\\inf_{m\\geq 0} a_{m}\\right| < \\infty,\n",
    "$$\n",
    "\n",
    "that\n",
    "\n",
    "$$\n",
    "\\lim_{n\\rightarrow\\infty} a_{n} = \\inf_{m\\geq0}a_{m}.\n",
    "$$"
   ]
  },
  {
   "cell_type": "markdown",
   "metadata": {},
   "source": [
    "_ Answer to Problem 3 _:"
   ]
  },
  {
   "cell_type": "markdown",
   "metadata": {},
   "source": [
    "**Problem 4**: Show that an arbitrary union of open sets in $\\mathbb{R}$ are open.  Likewise, show that an arbitrary intersection of closed sets in $\\mathbb{R}$ is closed.  Create an example of an infinite sequence of open sets such that their intersection is not open.  _ Hint _: Think about using the open intervals\n",
    "\n",
    "$$\n",
    "I_{n} = \\left(-\\frac{1}{n},\\frac{1}{n}\\right), ~ n\\geq1.\n",
    "$$"
   ]
  },
  {
   "cell_type": "markdown",
   "metadata": {},
   "source": [
    "_ Answer to Problem 4 _: "
   ]
  },
  {
   "cell_type": "markdown",
   "metadata": {},
   "source": [
    "**Problem 5**: Show that $f(x)=\\sqrt{x}$ is continuous for any $x>0$.  _ Hint _: We need, for $y>0$, to start with the identity\n",
    "\n",
    "$$\n",
    "\\left|\\sqrt{y} - \\sqrt{x}\\right| = \\left|\\sqrt{y} - \\sqrt{x}\\right|\\frac{\\left|\\sqrt{y} + \\sqrt{x}\\right|}{\\left|\\sqrt{y} + \\sqrt{x}\\right|} = \\frac{|y-x|}{\\left|\\sqrt{y} + \\sqrt{x}\\right|}\n",
    "$$\n",
    "\n",
    "I leave the rest to you."
   ]
  },
  {
   "cell_type": "markdown",
   "metadata": {},
   "source": [
    "_ Answer to Problem 5 _:"
   ]
  },
  {
   "cell_type": "code",
   "execution_count": null,
   "metadata": {
    "collapsed": true
   },
   "outputs": [],
   "source": []
  }
 ],
 "metadata": {
  "kernelspec": {
   "display_name": "Python 2",
   "language": "python",
   "name": "python2"
  },
  "language_info": {
   "codemirror_mode": {
    "name": "ipython",
    "version": 2
   },
   "file_extension": ".py",
   "mimetype": "text/x-python",
   "name": "python",
   "nbconvert_exporter": "python",
   "pygments_lexer": "ipython2",
   "version": "2.7.13"
  }
 },
 "nbformat": 4,
 "nbformat_minor": 2
}
