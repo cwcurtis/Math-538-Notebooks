{
 "cells": [
  {
   "cell_type": "code",
   "execution_count": 1,
   "metadata": {
    "collapsed": true
   },
   "outputs": [],
   "source": [
    "import numpy as np\n",
    "import matplotlib.pyplot as plt\n",
    "%matplotlib inline"
   ]
  },
  {
   "cell_type": "markdown",
   "metadata": {},
   "source": [
    "# Assignment 4"
   ]
  },
  {
   "cell_type": "markdown",
   "metadata": {},
   "source": [
    "** Problem 1 ** - 5 pts: T1.5"
   ]
  },
  {
   "cell_type": "markdown",
   "metadata": {
    "collapsed": true
   },
   "source": [
    "** Problem 2 ** - 5 pts: Exercise 1.5"
   ]
  },
  {
   "cell_type": "markdown",
   "metadata": {},
   "source": [
    "** Problem 3 ** - 5 pts: Exercise 1.10"
   ]
  },
  {
   "cell_type": "markdown",
   "metadata": {},
   "source": [
    "** Problem 4 ** - 5 pts: Alright, so again, as we showed in lecture, using the fact that for \n",
    "the logistic map \n",
    "\n",
    "$$\n",
    "L_{\\alpha}(x) = \\alpha x (1-x),\n",
    "$$\n",
    "\n",
    "with non-zero fixed point \n",
    "\n",
    "$$\n",
    "x_{\\alpha} = 1 - \\frac{1}{\\alpha},\n",
    "$$\n",
    "\n",
    "then for $1<\\alpha<3$, we can show that\n",
    "\n",
    "$$\n",
    "\\left|L_{\\alpha}(x) - x_{\\ast} \\right| = \\left|1-\\alpha x \\right|\\left|x-x_{\\ast}\\right|.\n",
    "$$\n",
    "\n",
    "Thus, if $0<x<2/\\alpha$, then we have\n",
    "\n",
    "$$\n",
    "\\left|L_{\\alpha}(x) - x_{\\ast} \\right| < \\left|x-x_{\\ast}\\right|.\n",
    "$$\n",
    "\n",
    "Show that if $1< \\alpha \\leq 2\\sqrt{2}$, then $(0,1)$ is part of the basin of attraction for $x_{\\ast}$, i.e. for any $x\\in (0,1)$\n",
    "\n",
    "$$\n",
    "\\lim_{n\\rightarrow\\infty}L^{(n)}_{\\alpha}(x) = x_{\\ast}.\n",
    "$$"
   ]
  },
  {
   "cell_type": "markdown",
   "metadata": {
    "collapsed": true
   },
   "source": [
    "** Problem 5 ** - 5 pts: So in one of the greater blunders of my teaching career, I made the case $2\\sqrt{2}<\\alpha<3$ way harder than it needed to be by making a mistake in a computation.  So let's get this cleared-up once and for all.  As during lecture, let $\\tilde{x}_{+/-}$ be the points such that\n",
    "\n",
    "$$\n",
    "L_{\\alpha}\\left(\\tilde{x}_{\\pm}\\right) = \\frac{2}{\\alpha}, ~ \\tilde{x}_{\\pm} = \\frac{1}{2}\\left(1 \\pm \\sqrt{1-\\frac{8}{\\alpha^{2}}}\\right).\n",
    "$$\n",
    "\n",
    "Now, show that $\\tilde{x}_{+}<x_{\\ast}<2/\\alpha$ and thus, as was claimed in class\n",
    "\n",
    "$$\n",
    "L_{\\alpha}:\\left(\\tilde{x}_{+},\\frac{2}{\\alpha}\\right)\\rightarrow\\left(\\tilde{x}_{+},\\frac{2}{\\alpha}\\right) \n",
    "$$\n",
    "\n",
    "Explain why this then guarantees $\\left(\\tilde{x}_{+},\\frac{2}{\\alpha}\\right)$ is a trapping region or basin of attraction for $x_{\\ast}$.  \n",
    "\n",
    "Now, show that for $2\\sqrt{2}<\\alpha<3$ that\n",
    "\n",
    "$$\n",
    "L_{\\alpha}\\left(\\frac{\\alpha}{4} \\right) > \\frac{1}{2}.\n",
    "$$\n",
    "\n",
    "Note, it was making a mistake here that sent me down the convulted path I followed.  Mea culpa.  Thus, now show that \n",
    "\n",
    "$$\n",
    "L^{(2)}_{\\alpha}:\\left[\\tilde{x}_{-},\\tilde{x}_{+}\\right]\\rightarrow \\left[L_{\\alpha}\\left(\\frac{\\alpha}{4}\\right),L_{\\alpha}\\left(\\frac{2}{\\alpha}\\right)\\right] \n",
    "$$\n",
    "\n",
    "and that \n",
    "\n",
    "$$\n",
    "\\tilde{x}_{+}< L_{\\alpha}\\left(\\frac{2}{\\alpha}\\right) < \\frac{2}{\\alpha}\n",
    "$$\n",
    "\n",
    "for $2\\sqrt{2}<\\alpha < 3$.  Likewise, show that there exists a point $\\tilde{x}_{0}>2/\\alpha$ such that\n",
    "\n",
    "$$\n",
    "L_{\\alpha}\\left(\\tilde{x}_{0}\\right) = \\tilde{x}_{+},\n",
    "$$\n",
    "\n",
    "and thus there is a corresponding point $1/2<\\tilde{x}_{1}<\\tilde{x}_{+}$ such that \n",
    "\n",
    "$$\n",
    "L_{\\alpha}(\\tilde{x}_{1}) = \\tilde{x}_{0}.\n",
    "$$\n",
    "\n",
    "Having shown that, how would you address points which start in $(0,\\tilde{x}_{-})$?  \n",
    "\n",
    "So, now that it is all said and done at this point, provide an argument which establishes the result.  Note, rigor is best, but at this point, if you can make a compelling case with drawings, I'll treat that as good.  "
   ]
  },
  {
   "cell_type": "code",
   "execution_count": null,
   "metadata": {
    "collapsed": true
   },
   "outputs": [],
   "source": []
  }
 ],
 "metadata": {
  "kernelspec": {
   "display_name": "Python 2",
   "language": "python",
   "name": "python2"
  },
  "language_info": {
   "codemirror_mode": {
    "name": "ipython",
    "version": 2
   },
   "file_extension": ".py",
   "mimetype": "text/x-python",
   "name": "python",
   "nbconvert_exporter": "python",
   "pygments_lexer": "ipython2",
   "version": "2.7.13"
  }
 },
 "nbformat": 4,
 "nbformat_minor": 2
}
