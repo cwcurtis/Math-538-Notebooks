{
 "cells": [
  {
   "cell_type": "code",
   "execution_count": 2,
   "metadata": {
    "collapsed": true
   },
   "outputs": [],
   "source": [
    "import numpy as np \n",
    "import matplotlib.pyplot as plt\n",
    "import matplotlib.gridspec as gridspec\n",
    "from numpy.lib.scimath import sqrt as csqrt\n",
    "from numpy.linalg import norm as npnorm\n",
    "%matplotlib inline"
   ]
  },
  {
   "cell_type": "markdown",
   "metadata": {},
   "source": [
    "## Two-Dimensional Maps\n",
    "\n",
    "We now move on to study two-dimensional maps of the form \n",
    "\n",
    "\\begin{align}\n",
    "x_{n+1} = & f_{1}(x_{n},y_{n})\\\\\n",
    "y_{n+1} = & f_{2}(x_{n},y_{n}),\n",
    "\\end{align}\n",
    "\n",
    "of ${\\bf x}_{n+1} = f({\\bf x}_{n})$.\n",
    "\n",
    "We can still focus on things like fixed points, and we can even derive local stability/instability criteria.  Let $Df$ denote the _ Jacobian _ of the map, which is given by the matrix\n",
    "\n",
    "$$\n",
    "Df = \\begin{pmatrix}\n",
    "\\partial_{x}f_{1} & \\partial_{y}f_{1}\\\\\n",
    "\\partial_{x}f_{2} & \\partial_{y}f_{2}\n",
    "\\end{pmatrix}\n",
    "$$\n",
    "\n",
    "If we evaluate $Df$ at a fixed point ${\\bf x}_{\\ast}$, and Taylor expand our map, we get \n",
    "\n",
    "$$\n",
    "({\\bf x}_{n+1} - {\\bf x}_{\\ast}) = Df({\\bf x}_{\\ast}) ({\\bf x}_{n}-{\\bf x}_{\\ast}) + \\mathcal{O}\\left(\\left|\\left|{\\bf x}_{n}-{\\bf x}_{\\ast}\\right|\\right|^{2}\\right)\n",
    "$$\n",
    "\n",
    "so, if we then diagonalize $Df({\\bf x}_{\\ast})$ so that \n",
    "\n",
    "$$\n",
    "Df({\\bf x}_{\\ast}) = V\\Lambda V^{-1}, ~ \\Lambda = \\begin{pmatrix}\\lambda_{1} & 0 \\\\ 0 & \\lambda_{2} \\end{pmatrix}\n",
    "$$\n",
    "\n",
    "where $\\lambda_{j}$ represents an _ eigenvalue _ of the matrix $Df({\\bf x}_{\\ast})$, then we have that \n",
    "\n",
    "$$\n",
    "{\\bf y}_{n+1} \\approx \\Lambda {\\bf y}_{n}, ~ {\\bf y}_{n} = V^{-1}\\left({\\bf x}_{n}-{\\bf x}_{\\ast}\\right).\n",
    "$$\n",
    "\n",
    "Note, by $V$ we mean a $2\\times 2$ matrix, where \n",
    "\n",
    "$$\n",
    "V = \\left( \\left.{\\bf v}_{1}\\right|{\\bf v}_{2} \\right)\n",
    "$$\n",
    "\n",
    "so that \n",
    "\n",
    "$$\n",
    "A{\\bf v}_{j} = \\lambda_{j} {\\bf v}_{j}.\n",
    "$$\n",
    "\n",
    "We are guaranteed that the matrix $A$ is diagonalizable if $\\lambda_{1}\\neq \\lambda_{2}$, or if $A^{T}=A$.  \n",
    "\n",
    "_ Problem _: For a diagonalizable matrix $A$, what is $A^{n}$?  What does this tell you about the global stability properies of linear two dimensional maps?  \n",
    "\n",
    "If we have $\\lambda_{1}=\\lambda_{2}$, then we can show that \n",
    "\n",
    "$$\n",
    "A = V \\tilde{\\Lambda} V^{-1}, ~ \\tilde{\\Lambda} = \\begin{pmatrix}\\lambda_{1} & 1 \\\\ 0 & \\lambda_{1} \\end{pmatrix}\n",
    "$$\n",
    "\n",
    "_ Problem _: Show in this case that if $|\\lambda_{1}|<1$ we still have a sink and so forth.  In other words, deterimine $A^{n}$ for any positive integer $n$. Then ask, what would happen to $A^{n}{\\bf x}$ for any vector ${\\bf x}$? \n",
    "\n",
    "Thus we see, if $|\\lambda_{j}|<1$, this represents an attractive direction, and if $|\\lambda_{j}|>1$, then we have a repellant direction.  \n",
    "\n",
    "Let's look at the example of the Henon map in order to get some more feel for all of this.  \n",
    "\n",
    "$$\n",
    "f_{1}(x,y) = a - x^{2} + by, ~ f_{2}(x,y) = x.\n",
    "$$\n",
    "\n",
    "As for fixed points, we readily see that $y=x$ can be anything, and so we have to fuss over\n",
    "\n",
    "$$\n",
    "x = a + bx - x^{2}, \n",
    "$$\n",
    "\n",
    "so \n",
    "\n",
    "$$\n",
    "x_{\\ast} = \\frac{1}{2}\\left(b-1 \\pm \\sqrt{(b-1)^{2} + 4a)} \\right)\n",
    "$$\n",
    "\n",
    "This gives us the fixed point existence criteria $(b-1)^{2}>-4a$.  We readily find the Jacobian to be \n",
    "\n",
    "$$\n",
    "Df = \\begin{pmatrix}\n",
    "-2x & b \\\\ 1 & 0\n",
    "\\end{pmatrix}\n",
    "$$\n",
    "\n",
    "This gives us then the characteristic equation\n",
    "\n",
    "$$\n",
    "(-2x-\\lambda)(-\\lambda) - b = 0,\n",
    "$$\n",
    "\n",
    "so that we get \n",
    "\n",
    "$$\n",
    "\\lambda = -x \\pm \\sqrt{x^{2} + b}.\n",
    "$$\n",
    "\n",
    "So already, we see the need for computing.  We have two different fixed points, and two eigenvalues associated with each, making for four inequalities to check.  "
   ]
  },
  {
   "cell_type": "code",
   "execution_count": 5,
   "metadata": {},
   "outputs": [
    {
     "data": {
      "text/plain": [
       "<matplotlib.text.Text at 0x7d93f1cff390>"
      ]
     },
     "execution_count": 5,
     "metadata": {},
     "output_type": "execute_result"
    },
    {
     "data": {
      "image/png": "[encoded data removed]",
      "text/plain": [
       "<matplotlib.figure.Figure at 0x7d93f1e6bf50>"
      ]
     },
     "metadata": {},
     "output_type": "display_data"
    }
   ],
   "source": [
    "avals = np.linspace(0.,5.,int(1e2))\n",
    "bvals = np.linspace(-5.,5.,int(1e2))\n",
    "aa,bb = np.meshgrid(avals,bvals)\n",
    "\n",
    "fp1 = .5*(bb - 1. + np.sqrt((bb-1.)**2. + 4.*aa))\n",
    "fp2 = .5*(bb - 1. - np.sqrt((bb-1.)**2. + 4.*aa))\n",
    "\n",
    "evlpp = np.abs(-fp1 + csqrt(fp1**2.+bb))\n",
    "evlpm = np.abs(-fp1 - csqrt(fp1**2.+bb))\n",
    "evlmp = np.abs(-fp2 + csqrt(fp2**2.+bb))\n",
    "evlmm = np.abs(-fp2 - csqrt(fp2**2.+bb))\n",
    "\n",
    "plt.close('all')\n",
    "levels = [.5, 1., 2.]\n",
    "fig = plt.figure(figsize=(10,10),facecolor='w') \n",
    "gs = gridspec.GridSpec(2, 2, width_ratios=[1,1], height_ratios=[1,1])\n",
    "ax11 = fig.add_subplot(gs[0,0])\n",
    "ax12 = fig.add_subplot(gs[0,1])\n",
    "ax21 = fig.add_subplot(gs[1,0])\n",
    "ax22 = fig.add_subplot(gs[1,1])\n",
    "\n",
    "cp = ax11.contour(aa,bb, evlpp, levels)\n",
    "ax11.clabel(cp, inline=True, fontsize=10)\n",
    "ax11.set_title('+/+')\n",
    "\n",
    "cp = ax12.contour(aa,bb, evlpm, levels)\n",
    "ax12.clabel(cp, inline=True, fontsize=10)\n",
    "ax12.set_title('+/-')\n",
    "\n",
    "cp = ax21.contour(aa,bb, evlmp, levels)\n",
    "ax21.clabel(cp, inline=True, fontsize=10)\n",
    "ax21.set_title('-/+')\n",
    "                      \n",
    "cp = ax22.contour(aa,bb, evlmm, levels)\n",
    "ax22.clabel(cp, inline=True, fontsize=10)\n",
    "ax22.set_title('-/-')"
   ]
  },
  {
   "cell_type": "code",
   "execution_count": 6,
   "metadata": {
    "collapsed": true
   },
   "outputs": [],
   "source": [
    "def henon(a,b,x0,y0):\n",
    "    xn = np.zeros(x0.shape)\n",
    "    yn = np.zeros(y0.shape)\n",
    "    xn[:,:] = a + b*y0 - x0**2\n",
    "    yn[:,:] = x0\n",
    "    return [xn,yn]"
   ]
  },
  {
   "cell_type": "code",
   "execution_count": 3,
   "metadata": {
    "collapsed": true
   },
   "outputs": [],
   "source": [
    "def henon_scalar(a,b,x0,y0):\n",
    "    xn = a + b*y0 - x0**2\n",
    "    yn = x0\n",
    "    return np.array([xn,yn])"
   ]
  },
  {
   "cell_type": "code",
   "execution_count": 8,
   "metadata": {
    "collapsed": true
   },
   "outputs": [],
   "source": [
    "def basin_plotter(a,b):\n",
    "    vals = np.linspace(-2.5,2.5,250)\n",
    "    x0,y0 = np.meshgrid(vals,vals)\n",
    "    x00,y00 = np.meshgrid(vals,vals)\n",
    "    \n",
    "    nstop = int(1e2)\n",
    "    nstopsq = nstop**2.\n",
    "    mcnt = int(4e1)\n",
    "    \n",
    "    for jj in xrange(0,mcnt):\n",
    "        [xn,yn] = henon(a,b,x0,y0)\n",
    "        cmag = xn**2. + yn**2. >= nstopsq;\n",
    "        xn[cmag] = nstop\n",
    "        yn[cmag] = nstop\n",
    "        x0[:,:] = xn\n",
    "        y0[:,:] = yn\n",
    "    \n",
    "    magmat = xn**2. + yn**2. >= nstop**2.\n",
    "    \n",
    "    fig = plt.figure(figsize=(5,5))\n",
    "    plt.pcolor(x00, y00, magmat, cmap='Greys', vmin=0, vmax=1)"
   ]
  },
  {
   "cell_type": "code",
   "execution_count": 9,
   "metadata": {
    "collapsed": true
   },
   "outputs": [],
   "source": [
    "def attractor_plotter(a,b,x0,y0):\n",
    "    mcnt = int(1e3)\n",
    "    lcnt = int(1e2)\n",
    "    for jj in xrange(0,mcnt):\n",
    "        [x0,y0] = henon_scalar(a,b,x0,y0)\n",
    "        if jj>lcnt:\n",
    "            plt.scatter(x0,y0,color='k',s=.5)"
   ]
  },
  {
   "cell_type": "code",
   "execution_count": 10,
   "metadata": {},
   "outputs": [
    {
     "data": {
      "image/png": "[encoded data removed]",
      "text/plain": [
       "<matplotlib.figure.Figure at 0x7d941b7e5e50>"
      ]
     },
     "metadata": {},
     "output_type": "display_data"
    }
   ],
   "source": [
    "basin_plotter(.1,.1)"
   ]
  },
  {
   "cell_type": "code",
   "execution_count": 11,
   "metadata": {},
   "outputs": [
    {
     "data": {
      "image/png": "[encoded data removed]",
      "text/plain": [
       "<matplotlib.figure.Figure at 0x7d93f2181810>"
      ]
     },
     "metadata": {},
     "output_type": "display_data"
    }
   ],
   "source": [
    "basin_plotter(1.28,-.3)"
   ]
  },
  {
   "cell_type": "code",
   "execution_count": 13,
   "metadata": {},
   "outputs": [
    {
     "data": {
      "image/png": "[encoded data removed]",
      "text/plain": [
       "<matplotlib.figure.Figure at 0x7d93f1f4fe90>"
      ]
     },
     "metadata": {},
     "output_type": "display_data"
    }
   ],
   "source": [
    "attractor_plotter(1.28,-.3,0.,1.)"
   ]
  },
  {
   "cell_type": "code",
   "execution_count": 12,
   "metadata": {},
   "outputs": [
    {
     "data": {
      "image/png": "[encoded data removed]",
      "text/plain": [
       "<matplotlib.figure.Figure at 0x7d93f1b64bd0>"
      ]
     },
     "metadata": {},
     "output_type": "display_data"
    }
   ],
   "source": [
    "basin_plotter(1.4,-.3)"
   ]
  },
  {
   "cell_type": "code",
   "execution_count": 14,
   "metadata": {},
   "outputs": [
    {
     "data": {
      "image/png": "[encoded data removed]",
      "text/plain": [
       "<matplotlib.figure.Figure at 0x7d93f19559d0>"
      ]
     },
     "metadata": {},
     "output_type": "display_data"
    }
   ],
   "source": [
    "attractor_plotter(1.4,-.3,0.,1.)"
   ]
  },
  {
   "cell_type": "code",
   "execution_count": 15,
   "metadata": {},
   "outputs": [
    {
     "data": {
      "image/png": "[encoded data removed]",
      "text/plain": [
       "<matplotlib.figure.Figure at 0x7d93f0dbf550>"
      ]
     },
     "metadata": {},
     "output_type": "display_data"
    }
   ],
   "source": [
    "attractor_plotter(1.2,.4,.1,.1)"
   ]
  },
  {
   "cell_type": "markdown",
   "metadata": {
    "collapsed": true
   },
   "source": [
    "## Two-Cycles in 2D Maps\n",
    "\n",
    "Okay, well then.  Let's look for two cycles.  Thus we need\n",
    "\n",
    "$$\n",
    "x = f_{1}(f_{1}(x,y),f_{2}(x,y)) , ~ y = f_{2}(f_{1}(x,y),f_{2}(x,y)),\n",
    "$$\n",
    "\n",
    "so that we get \n",
    "\n",
    "$$\n",
    "x = a + bf_{2}(x,y) - (f_{1}(x,y))^{2}, y = y,\n",
    "$$\n",
    "\n",
    "or \n",
    "\n",
    "$$\n",
    "x = a + by - (a+by-x^{2})^{2}.\n",
    "$$\n",
    "\n",
    "So again, we want to use the fact that \n",
    "\n",
    "$$\n",
    "a + by - (a+by-x^{2})^{2} - x = \\left(x-x_{\\ast,+} \\right)\\left(x-x_{\\ast,-} \\right)\\left(x^{2}+c_{1}x+c_{2}\\right)\n",
    "$$\n",
    "\n",
    "And then we just look it up in the book that, see Equation 2.35, this last polynomial factors into \n",
    "\n",
    "$$\n",
    "\\left(x^{2}-(1-b)x-a+(1-b)^2\\right)\\left(x^{2} + (1-b)x -a\\right)\n",
    "$$\n",
    "\n",
    "so we find two-cycles via the roots of the left-hand side of this expression.  And from this point on the algebra just gets ridiculous.  \n",
    "\n",
    "As for stability, you still can use the product rule from before, but it now involves matrices.  In other words, we need to find the Jacobian of $f^{(2)}$, which is given by\n",
    "\n",
    "$$\n",
    "Df^{(2)}({\\bf x}) = Df(f({\\bf x}))\\cdot Df({\\bf x}).  \n",
    "$$\n",
    "\n",
    "So you can see for arbitrary cycles that \n",
    "\n",
    "$$\n",
    "Df^{(k)}({\\bf x}) = \\prod_{l=0}^{k-1} Df(f^{(l)}({\\bf x})).  \n",
    "$$\n"
   ]
  },
  {
   "cell_type": "markdown",
   "metadata": {
    "collapsed": true
   },
   "source": [
    "## Manifolds\n",
    "\n",
    "Before we can get going we need to get a quick feel for the inverse of a map.  For example, for the Henon map we have\n",
    "\n",
    "\\begin{align}\n",
    "x_{n+1} = & a + by_{n} - x_{n}^{2}\\\\\n",
    "y_{n+1} = & x_{n}\n",
    "\\end{align}\n",
    "\n",
    "The goal is to get $(x_{n},y_{n})$ in terms of $(x_{n+1},y_{n+1})$.  We readily see that \n",
    "\n",
    "\\begin{align}\n",
    "x_{n} = & y_{n+1}\\\\\n",
    "y_{n} = & \\frac{-a + x_{n+1} + y_{n+1}^{2}}{b}\n",
    "\\end{align}\n",
    "\n",
    "\n",
    "Thus, we have found the inverse of the Henon map, which as we see, allows us to iterate in reverse.  We write this as ${\\bf x}_{n} = f^{(-1)}({\\bf x}_{n+1})$.  Having found the inverse, we can now discuss the concept of stable and unstable manifolds for saddle fixed points.   \n",
    "\n",
    "> ** Stable  Manifold**: For a saddle fixed point ${\\bf p}$, the stable manifold $S({\\bf p})$ is defined to be the set $S({\\bf p}) = \\left\\{ {\\bf x}\\in \\mathbb{R}^{2}: \\lim_{n\\rightarrow \\infty}\\left|f^{(n)}({\\bf x})-{\\bf p}\\right|=0\\right\\}$.\n",
    "\n",
    "> ** Unstable  Manifold**: For a saddle fixed point ${\\bf p}$, the unstable manifold $U({\\bf p})$ is defined to be the set $U({\\bf p}) = \\left\\{ {\\bf x}\\in \\mathbb{R}^{2}: \\lim_{n\\rightarrow \\infty}\\left|f^{(-n)}({\\bf x})-{\\bf p}\\right|=0\\right\\}$.\n",
    "\n",
    "What is perhaps surprising is that these sets can be shown to be continuous curves, at least in a neighborhood of the fixed point.  \n",
    "\n",
    "> ** The Stable Manifold Theorem **: For a smooth invertible map $f$ with a saddle-fixed point ${\\bf p}$ with Jacobian $Df$ with eigenvector ${\\bf v}_{s}$, corresponding to the stable direction, and eigenvector ${\\bf v}_{u}$, corresponding to the unstable direction, then $S({\\bf p})$ and $U({\\bf p})$ are curves such that $S({\\bf p})$ is tangent to ${\\bf v}_{s}$ and $U({\\bf p})$ is tangent to ${\\bf v}_{u}$ at ${\\bf p}$.    \n",
    "\n",
    "At this point, there is not much else we can do but compute.  To that end, I'll just put the algorithm down and walk you through it.   "
   ]
  },
  {
   "cell_type": "code",
   "execution_count": 3,
   "metadata": {
    "collapsed": true
   },
   "outputs": [],
   "source": [
    "def henon_map_2d(a,b,xpt):\n",
    "    xn = np.zeros(xpt.shape)\n",
    "    xn[:,0] = a + b*xpt[:,1] - (xpt[:,0])**2\n",
    "    xn[:,1] = xpt[:,0]\n",
    "    return xn"
   ]
  },
  {
   "cell_type": "code",
   "execution_count": 4,
   "metadata": {
    "collapsed": true
   },
   "outputs": [],
   "source": [
    "def henon_inv_map_2d(a,b,xpt):\n",
    "    xn = np.zeros(xpt.shape)\n",
    "    xn[:,0] = xpt[:,1]\n",
    "    xn[:,1] = (-a + xpt[:,0] + (xpt[:,1])**2)/b\n",
    "    return xn"
   ]
  },
  {
   "cell_type": "code",
   "execution_count": 10,
   "metadata": {
    "collapsed": true
   },
   "outputs": [],
   "source": [
    "def recursive_cut(a,b,al,ar,f,cpoints):\n",
    "    fal = f(a,b,al)\n",
    "    far = f(a,b,ar)\n",
    "    if npnorm(far-fal) <= 1e-9:\n",
    "        ali = np.zeros((1,2))\n",
    "        ari = np.zeros((1,2))\n",
    "        ali[0,:] = al\n",
    "        ari[0,:] = ar\n",
    "        cpoints = np.append(cpoints,ali,axis=0)\n",
    "        cpoints = np.append(cpoints,ari,axis=0)\n",
    "    else:\n",
    "        am = (ar+al)/2.\n",
    "        cpoints = recursive_cut(a,b,al,am,f,cpoints)\n",
    "        cpoints = recursive_cut(a,b,am,ar,f,cpoints) \n",
    "    return cpoints"
   ]
  },
  {
   "cell_type": "code",
   "execution_count": 11,
   "metadata": {
    "collapsed": true
   },
   "outputs": [],
   "source": [
    "def mani_make(a,b,avec,bvec,f,man,cmax,clr):\n",
    "    \n",
    "    man = recursive_cut(a,b,avec,bvec,f,man)\n",
    "    \n",
    "    plt.scatter(man[:,0],man[:,1],color=clr,s=.1)\n",
    "    cnt = 0\n",
    "    \n",
    "    while cnt < cmax:\n",
    "        man = f(a,b,man)\n",
    "        plt.scatter(man[:,0],man[:,1],color=clr,s=.1)\n",
    "        cnt+=1\n",
    "        \n",
    "    plt.xlim((-2.5,2.5))\n",
    "    plt.ylim((-2.5,2.5))"
   ]
  },
  {
   "cell_type": "code",
   "execution_count": 12,
   "metadata": {
    "collapsed": true
   },
   "outputs": [],
   "source": [
    "def henon_manifold(a,b,tol,cmax):\n",
    "    \n",
    "    fp1 = .5*(b - 1. + np.sqrt((b-1.)**2. + 4.*a))\n",
    "    fp2 = .5*(b - 1. - np.sqrt((b-1.)**2. + 4.*a))\n",
    "    \n",
    "    evlpp = -fp1 + csqrt(fp1**2.+b)\n",
    "    evlpm = -fp1 - csqrt(fp1**2.+b)\n",
    "    \n",
    "    evlmp = -fp2 + csqrt(fp2**2.+b)\n",
    "    evlmm = -fp2 - csqrt(fp2**2.+b)\n",
    "    \n",
    "    if (np.abs(evlpp)>1 and np.abs(evlpm)<1) or (np.abs(evlpp)<1 and np.abs(evlpm)>1):\n",
    "        evec1 = np.array([1.,-evlpm/b])\n",
    "        evec2 = np.array([1.,-evlpp/b])\n",
    "        fxpt = np.array([fp1,fp1])\n",
    "        \n",
    "        if np.abs(evlpp)>1 and np.abs(evlpm)<1:\n",
    "            svec,uvec = evec2,evec1\n",
    "        else:\n",
    "            svec,uvec = evec1,evec2\n",
    "        \n",
    "        print \"Positive fixed point is a saddle.\"\n",
    "        print \"Fixed point at (%1.3f,%1.3f)\" % (fp1,fp1)\n",
    "        \n",
    "    elif (np.abs(evlmp)>1 and np.abs(evlmm)<1) or (np.abs(evlmp)<1 and np.abs(evlmm)>1):\n",
    "        evec1 = np.array([1.,-evlmm/b])\n",
    "        evec2 = np.array([1.,-evlmp/b])\n",
    "        fxpt = np.array([fp2,fp2])\n",
    "        \n",
    "        if np.abs(evlmp)>1 and np.abs(evlmm)<1:\n",
    "            svec,uvec = evec2,evec1\n",
    "        else:\n",
    "            svec,uvec = evec1,evec2\n",
    "            \n",
    "        print \"Negative fixed point is a saddle.\"\n",
    "        print \"Fixed point at (%1.3f,%1.3f)\" % (fp2,fp2)\n",
    "        \n",
    "    else:\n",
    "        print 'No saddles here cowboy.'\n",
    "        pass \n",
    "    \n",
    "    # Build the Stable Manifold S(p)    \n",
    "        \n",
    "    avals = fxpt + tol*svec/npnorm(svec)\n",
    "    avec = np.zeros((1,2))\n",
    "    avec[0,:] = avals\n",
    "    bvec = henon_inv_map_2d(a,b,avec)\n",
    "    \n",
    "    sman = np.zeros((1,2))\n",
    "    sman[0,:] = fxpt\n",
    "    mani_make(a,b,avec,bvec,henon_inv_map_2d,sman,cmax,'b')\n",
    "    \n",
    "    # Build the Unstable Manifold U(p)    \n",
    "        \n",
    "    avals = fxpt + tol*uvec/npnorm(uvec)\n",
    "    avec = np.zeros((1,2))\n",
    "    avec[0,:] = avals\n",
    "    bvec = henon_map_2d(a,b,avec)\n",
    "    \n",
    "    uman = np.zeros((1,2))\n",
    "    uman[0,:] = fxpt\n",
    "    mani_make(a,b,avec,bvec,henon_map_2d,uman,cmax,'r')\n",
    "    "
   ]
  },
  {
   "cell_type": "code",
   "execution_count": 14,
   "metadata": {},
   "outputs": [
    {
     "name": "stdout",
     "output_type": "stream",
     "text": [
      "Positive fixed point is a saddle.\n",
      "Fixed point at (0.945,0.945)\n"
     ]
    },
    {
     "name": "stderr",
     "output_type": "stream",
     "text": [
      "/usr/local/Anaconda/lib/python2.7/site-packages/ipykernel_launcher.py:4: RuntimeWarning: overflow encountered in square\n",
      "  after removing the cwd from sys.path.\n",
      "/usr/local/Anaconda/lib/python2.7/site-packages/ipykernel_launcher.py:4: RuntimeWarning: overflow encountered in divide\n",
      "  after removing the cwd from sys.path.\n",
      "/usr/local/Anaconda/lib/python2.7/site-packages/ipykernel_launcher.py:4: RuntimeWarning: invalid value encountered in add\n",
      "  after removing the cwd from sys.path.\n"
     ]
    },
    {
     "data": {
      "image/png": "[encoded data removed]",
      "text/plain": [
       "<matplotlib.figure.Figure at 0x7ab826806ed0>"
      ]
     },
     "metadata": {},
     "output_type": "display_data"
    }
   ],
   "source": [
    "henon_manifold(2.12,-.3,1e-6,40)"
   ]
  },
  {
   "cell_type": "code",
   "execution_count": null,
   "metadata": {
    "collapsed": true
   },
   "outputs": [],
   "source": []
  }
 ],
 "metadata": {
  "kernelspec": {
   "display_name": "Python 2",
   "language": "python",
   "name": "python2"
  },
  "language_info": {
   "codemirror_mode": {
    "name": "ipython",
    "version": 2
   },
   "file_extension": ".py",
   "mimetype": "text/x-python",
   "name": "python",
   "nbconvert_exporter": "python",
   "pygments_lexer": "ipython2",
   "version": "2.7.13"
  }
 },
 "nbformat": 4,
 "nbformat_minor": 2
}
