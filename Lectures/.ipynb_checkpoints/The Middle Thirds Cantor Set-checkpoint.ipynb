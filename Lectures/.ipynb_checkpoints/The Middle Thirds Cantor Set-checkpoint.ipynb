{
 "cells": [
  {
   "cell_type": "markdown",
   "metadata": {},
   "source": [
    "# The Middle Thirds Cantor Set\n",
    "\n",
    "So, throughout this course, we will routinely return to a construct which underpins a lot of the stranger results in mathematics.  This construct is known as the _ Middle Thirds Cantor Set _.  The construction of this set is reasonable straightforward to explain.  Start with the interval \n",
    "\n",
    "$$\n",
    "C_{0} = \\left[0,1\\right].  \n",
    "$$\n",
    "\n",
    "Note, I know _ interval _ usually means we use a variable like $I$, but just hang in there, you'll see where I'm going with this.  Now, with $C_{0}$ defined, we define the next interval $C_{1}$ to be \n",
    "\n",
    "$$\n",
    "C_{1} = \\left[0,\\frac{1}{3}\\right]\\cup\\left[\\frac{2}{3},1\\right].\n",
    "$$\n",
    "\n",
    "Thus, $C_{1}$ is just $C_{0}$ with the middle third removed.  We note that $C_{1}\\subset C_{0}$, and thus $C_{1}=C_{1}\\cap C_{0}$.  So now, all we do is keep repeating the process.  \n",
    "\n",
    "_ Problem _: Following the logic above, show that \n",
    "\n",
    "$$\n",
    "C_{k} = \\bigcup_{l = 0}^{} \\left(\\left[\\frac{3l}{3^{k}},\\frac{3l+1}{3^{k}}\\right]\\bigcup \\left[\\frac{3l+2}{3^{k}},\\frac{3l+3}{3^{k}}\\right]\\right), ~ k\\geq 1.\n",
    "$$"
   ]
  },
  {
   "cell_type": "code",
   "execution_count": null,
   "metadata": {
    "collapsed": true
   },
   "outputs": [],
   "source": []
  }
 ],
 "metadata": {
  "kernelspec": {
   "display_name": "Python 2",
   "language": "python",
   "name": "python2"
  },
  "language_info": {
   "codemirror_mode": {
    "name": "ipython",
    "version": 2
   },
   "file_extension": ".py",
   "mimetype": "text/x-python",
   "name": "python",
   "nbconvert_exporter": "python",
   "pygments_lexer": "ipython2",
   "version": "2.7.13"
  }
 },
 "nbformat": 4,
 "nbformat_minor": 2
}
