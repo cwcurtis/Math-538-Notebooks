{
 "cells": [
  {
   "cell_type": "code",
   "execution_count": 48,
   "metadata": {
    "collapsed": true
   },
   "outputs": [],
   "source": [
    "import numpy as np\n",
    "import matplotlib.pyplot as plt\n",
    "%matplotlib inline"
   ]
  },
  {
   "cell_type": "code",
   "execution_count": 117,
   "metadata": {
    "collapsed": true
   },
   "outputs": [],
   "source": [
    "def henon_scalar(a,b,xpt):\n",
    "    xn = a + b*xpt[1] - xpt[0]**2\n",
    "    yn = xpt[0]\n",
    "    return np.array([xn,yn])\n",
    "\n",
    "def henon_attractor_maker(niter):\n",
    "    xpt = np.array([.1,.1])\n",
    "    ptlst = np.zeros((1,2))\n",
    "    for jj in xrange(0,niter):\n",
    "        xpt = henon_scalar(1.2,.4,xpt)\n",
    "        lpt = np.zeros((1,2))\n",
    "        lpt[0,:] = xpt\n",
    "        ptlst = np.append(ptlst,lpt,axis=0)\n",
    "    return ptlst"
   ]
  },
  {
   "cell_type": "code",
   "execution_count": 144,
   "metadata": {
    "collapsed": true
   },
   "outputs": [],
   "source": [
    "def box_plot(xl,xr,yb,yt):\n",
    "    plt.plot([xl,xr],[yb,yb],color='k')\n",
    "    plt.plot([xl,xr],[yt,yt],color='k')\n",
    "    plt.plot([xl,xl],[yb,yt],color='k')\n",
    "    plt.plot([xr,xr],[yb,yt],color='k')"
   ]
  },
  {
   "cell_type": "code",
   "execution_count": 147,
   "metadata": {},
   "outputs": [],
   "source": [
    "def box_cutter(pts,bscl,xl,xr,yb,yt):\n",
    "    \n",
    "    xmin,xmax = xl,xr\n",
    "    ymin,ymax = yb,yt\n",
    "    \n",
    "    dx = (xmax-xmin)/2.\n",
    "    dy = (ymax-ymin)/2.\n",
    "    \n",
    "    if pts.size > 2 and np.amin([dx,dy]) > bscl:\n",
    "        \n",
    "        xpts = pts[:,0]\n",
    "        ypts = pts[:,1]\n",
    "        npts = xpts.size\n",
    "        nvals = range(0,npts)    \n",
    "    \n",
    "        xindl = xpts < xmin + dx\n",
    "        xindr = xpts >= xmin + dx\n",
    "        yindt = ypts >= ymin + dy\n",
    "        yindb = ypts < ymin + dy\n",
    "    \n",
    "        qtr = xindr*yindt\n",
    "        qbr = xindr*yindb\n",
    "        qbl = xindl*yindb\n",
    "        qtl = xindl*yindt\n",
    "    \n",
    "        if np.amin(np.array([dx,dy])) > bscl:\n",
    "            dtr,dbr,dbl,dtl = 0,0,0,0\n",
    "        \n",
    "            if np.sum(qtr) > 0:\n",
    "                inds = np.squeeze(np.nonzero(np.array(nvals*qtr)))\n",
    "                dtr = box_cutter(pts[inds,:],bscl,xmin+dx,xmax,ymin+dy,ymax)\n",
    "                box_plot(xmin+dx,xmax,ymin+dy,ymax)\n",
    "            if np.sum(qbr) > 0:\n",
    "                inds = np.squeeze(np.nonzero(np.array(nvals*qbr)))\n",
    "                dbr = box_cutter(pts[inds,:],bscl,xmin+dx,xmax,ymin,ymin+dy)\n",
    "                box_plot(xmin+dx,xmax,ymin,ymin+dy)\n",
    "            if np.sum(qbl) > 0:\n",
    "                inds = np.squeeze(np.nonzero(np.array(nvals*qbl)))\n",
    "                dbl = box_cutter(pts[inds,:],bscl,xmin,xmin+dx,ymin,ymin+dy)\n",
    "                box_plot(xmin,xmin+dx,ymin,ymin+dy)\n",
    "            if np.sum(qtl) > 0:\n",
    "                inds = np.squeeze(np.nonzero(np.array(nvals*qtl)))\n",
    "                dtl = box_cutter(pts[inds,:],bscl,xmin,xmin+dx,ymin+dy,ymax)\n",
    "                box_plot(xmin,xmin+dx,ymin+dy,ymax)\n",
    "    \n",
    "            return dtr+dbr+dbl+dtl\n",
    "    \n",
    "    else:\n",
    "        if pts.size > 2:\n",
    "            xpts = pts[:,0]\n",
    "            ypts = pts[:,1]\n",
    "        elif pts.size==2:\n",
    "            xpts = pts[0]\n",
    "            ypts = pts[1]\n",
    "        else:\n",
    "            return 0\n",
    "        xindl = xpts < xmin + dx\n",
    "        xindr = xpts >= xmin + dx\n",
    "        yindt = ypts >= ymin + dy\n",
    "        yindb = ypts < ymin + dy\n",
    "    \n",
    "        qtr = xindr*yindt\n",
    "        qbr = xindr*yindb\n",
    "        qbl = xindl*yindb\n",
    "        qtl = xindl*yindt\n",
    "        \n",
    "        dcnt = 0\n",
    "        if np.sum(qtr) > 0:\n",
    "            dcnt += 1\n",
    "        if np.sum(qbr) > 0:\n",
    "            dcnt +=1\n",
    "        if np.sum(qbl) > 0:\n",
    "            dcnt +=1\n",
    "        if np.sum(qtl) > 0:\n",
    "            dcnt +=1\n",
    "        return dcnt"
   ]
  },
  {
   "cell_type": "code",
   "execution_count": 148,
   "metadata": {
    "collapsed": true
   },
   "outputs": [],
   "source": [
    "def box_counter(pts,bscl):\n",
    "    xpts = pts[:,0]\n",
    "    ypts = pts[:,1]\n",
    "    npts = xpts.size\n",
    "    \n",
    "    xmin = np.amin(xpts)-.001\n",
    "    xmax = np.amax(xpts)+.001\n",
    "    ymin = np.amin(ypts)-.001\n",
    "    ymax = np.amax(ypts)+.001\n",
    "    \n",
    "    dx = (xmax-xmin)/2.\n",
    "    dy = (ymax-ymin)/2.\n",
    "    \n",
    "    xindl = xpts < xmin + dx\n",
    "    xindr = xpts >= xmin + dx\n",
    "    yindt = ypts >= ymin + dy\n",
    "    yindb = ypts < ymin + dy\n",
    "    \n",
    "    qtr = xindr*yindt\n",
    "    qbr = xindr*yindb\n",
    "    qbl = xindl*yindb\n",
    "    qtl = xindl*yindt\n",
    "    dtr,dbr,dbl,dtl = 0,0,0,0\n",
    "    nvals = range(0,npts)    \n",
    "    \n",
    "    if np.sum(qtr) > 0:\n",
    "        inds = np.squeeze(np.nonzero(np.array(nvals*qtr)))\n",
    "        dtr = box_cutter(pts[inds,:],bscl,xmin+dx,xmax,ymin+dy,ymax)\n",
    "        box_plot(xmin+dx,xmax,ymin+dy,ymax)\n",
    "    if np.sum(qbr) > 0:\n",
    "        inds = np.squeeze(np.nonzero(np.array(nvals*qbr)))\n",
    "        dbr = box_cutter(pts[inds,:],bscl,xmin+dx,xmax,ymin,ymin+dy)\n",
    "        box_plot(xmin+dx,xmax,ymin,ymin+dy)\n",
    "    if np.sum(qbl) > 0:\n",
    "        inds = np.squeeze(np.nonzero(np.array(nvals*qbl)))\n",
    "        dbl = box_cutter(pts[inds,:],bscl,xmin,xmin+dx,ymin,ymin+dy)\n",
    "        box_plot(xmin,xmin+dx,ymin,ymin+dy)\n",
    "    if np.sum(qtl) > 0:\n",
    "        inds = np.squeeze(np.nonzero(np.array(nvals*qtl)))\n",
    "        dtl = box_cutter(pts[inds,:],bscl,xmin,xmin+dx,ymin+dy,ymax)\n",
    "        box_plot(xmin,xmin+dx,ymin+dy,ymax)\n",
    "        \n",
    "    return np.log(dtr+dbr+dbl+dtl)/np.log(1./bscl)"
   ]
  },
  {
   "cell_type": "code",
   "execution_count": 151,
   "metadata": {},
   "outputs": [
    {
     "name": "stdout",
     "output_type": "stream",
     "text": [
      "1.8746748803\n"
     ]
    },
    {
     "data": {
      "image/png": "[encoded data removed]",
      "text/plain": [
       "<matplotlib.figure.Figure at 0x76ee78854f10>"
      ]
     },
     "metadata": {},
     "output_type": "display_data"
    }
   ],
   "source": [
    "pts = henon_attractor_maker(int(1e5))\n",
    "dim = box_counter(pts[int(1e2):,:],1e-2)\n",
    "print dim"
   ]
  },
  {
   "cell_type": "code",
   "execution_count": null,
   "metadata": {
    "collapsed": true
   },
   "outputs": [],
   "source": []
  }
 ],
 "metadata": {
  "kernelspec": {
   "display_name": "Python 2",
   "language": "python",
   "name": "python2"
  },
  "language_info": {
   "codemirror_mode": {
    "name": "ipython",
    "version": 2
   },
   "file_extension": ".py",
   "mimetype": "text/x-python",
   "name": "python",
   "nbconvert_exporter": "python",
   "pygments_lexer": "ipython2",
   "version": "2.7.13"
  }
 },
 "nbformat": 4,
 "nbformat_minor": 2
}
