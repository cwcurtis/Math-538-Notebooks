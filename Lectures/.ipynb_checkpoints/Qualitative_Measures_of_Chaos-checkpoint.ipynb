{
 "cells": [
  {
   "cell_type": "code",
   "execution_count": 22,
   "metadata": {
    "collapsed": true
   },
   "outputs": [],
   "source": [
    "import numpy as np \n",
    "import matplotlib.pyplot as plt\n",
    "import matplotlib.gridspec as gridspec\n",
    "from numpy.lib.scimath import sqrt as csqrt\n",
    "from numpy.linalg import norm as npnorm\n",
    "from numpy.linalg import qr as npqr\n",
    "%matplotlib inline"
   ]
  },
  {
   "cell_type": "code",
   "execution_count": 30,
   "metadata": {
    "collapsed": true
   },
   "outputs": [],
   "source": [
    "def henon_map_2d(a,b,xpt):\n",
    "    xn = np.zeros(xpt.shape)\n",
    "    xn[:,0] = a + b*xpt[:,1] - (xpt[:,0])**2\n",
    "    xn[:,1] = xpt[:,0]\n",
    "    return xn"
   ]
  },
  {
   "cell_type": "markdown",
   "metadata": {},
   "source": [
    "# Qualitative Measures of Chaos \n",
    "\n",
    "## The Lyupanov Exponent\n",
    "\n",
    "Let's go back to a one dimensional map, say $f\\in C^{1}(I)$.  Using our now classic result for derivatives of the iteration of a map, we have \n",
    "\n",
    "$$\n",
    "\\left|\\frac{d}{dx}f^{(k)}(x_{0}) \\right| = \\prod_{l=0}^{k-1}\\left|f'(x_{l})\\right|.\n",
    "$$\n",
    "\n",
    "For example, if we look at the tent map $T_{2}(x)$, we readily can show that $|T'_{2}|=2$, so for any orbit, so long as we never end up on the point $x=1/2$, we see that \n",
    "\n",
    "$$\n",
    "\\left|\\frac{d}{dx}f^{(k)}(x_{0}) \\right| = 2^{k}.\n",
    "$$\n",
    "\n",
    "So, in some sense, we see that regardless of where we start, any nearby orbit that might start near $x_{0}$ is going to be pushed away.  Following this approach, we define the Lyupanov number $L(x_{0})$, for the corresponding sequence $x_{1}=f(x_{0})$ etc.. to be \n",
    "\n",
    "$$\n",
    "L(x_{0}) = \\lim_{n\\rightarrow \\infty} \\left(\\prod_{l=0}^{n-1}\\left|f'(x_{l})\\right|\\right)^{1/n},\n",
    "$$\n",
    "\n",
    "and we likewise define the Lyupanov exponent to be \n",
    "\n",
    "$$\n",
    "h(x_{0}) = \\lim_{n\\rightarrow \\infty} \\frac{1}{n}\\sum_{l=0}^{n-1}\\ln\\left|f'(x_{l})\\right|\n",
    "$$\n",
    "\n",
    "Note, we need to suppose that we do not have $f'(x_{l})=0$ at any point along an orbit.  With this in mind, we see that if $h(x_{0})>0$, then $L(x_{0})>1$, and we expect a kind of absence of any attractiveness onto the orbit $\\left\\{x_{j}\\right\\}_{j=0}^{\\infty}$.  Moreover, we expect anything that might get close to be pushed away exponentially quickly.  We can think of this as a means of characterising chaos since a positive Lyupanov exponent is an ingredient for sensitivity with respect to initial conditions.  "
   ]
  },
  {
   "cell_type": "markdown",
   "metadata": {},
   "source": [
    "Our approach in higher dimensions is a bit more complicated.  Using our product formula for the Jacobian of iterates, we have \n",
    "\n",
    "$$\n",
    "D^{(n)}f(x_{0}) = Df(x_{n-1})Df(x_{n-2})\\cdots Df(x_{1})Df(x_{0}).\n",
    "$$\n",
    "\n",
    "We now use what is called the QR decomposition of a matrix in which we write \n",
    "\n",
    "$$\n",
    "Df(x_{0}) = Q_{0}R_{0},\n",
    "$$\n",
    "\n",
    "where $Q_{0}Q_{0}^{T}=I$, and $R_{0}$ is upper triangular.  What is interesting are the diagonal entries of $R_{0}$.  The columns of the matrix $Q_{0}$ represent an orthonormal basis of the space we are mapping over.  The diagonal entries of $R_{0}$ represent how much $A$ stretches or contracts along each column of $Q_{0}$.  \n",
    "\n",
    "To iterate this process along an orbit, we ignore $R_{0}$, find \n",
    "\n",
    "$$\n",
    "Df(x_{1})Q_{0} = Q_{1}R_{1},\n",
    "$$\n",
    "\n",
    "and then \n",
    "\n",
    "$$\n",
    "Df(x_{2})Q_{1} = Q_{2}R_{2},\n",
    "$$\n",
    "\n",
    "until we finally get to \n",
    "\n",
    "$$\n",
    "Df(x_{n-1})Q_{n-2} = Q_{n-1}R_{n-1}.\n",
    "$$\n",
    "\n",
    "We then define the Lyupanov exponent $h({\\bf x}_{0})$ to be \n",
    "\n",
    "$$\n",
    "h_{k}({\\bf x}_{0}) = \\lim_{n\\rightarrow \\infty} \\frac{1}{n}\\sum_{l=1}^{n}\\ln \\left|R_{l-1,k}\\right|.\n",
    "$$"
   ]
  },
  {
   "cell_type": "code",
   "execution_count": 31,
   "metadata": {
    "collapsed": true
   },
   "outputs": [],
   "source": [
    "def jac_mat(a,b,xpt):\n",
    "    return np.array([[2.*xpt[:,0], b], [1., 0.]])"
   ]
  },
  {
   "cell_type": "code",
   "execution_count": 32,
   "metadata": {
    "collapsed": true
   },
   "outputs": [],
   "source": [
    "def henon_lyup_comp(a,b,xpt,nstp):\n",
    "    \n",
    "    q,r = npqr(jac_mat(a,b,xpt))\n",
    "    tot = np.zeros((np.diag(r)).size)\n",
    "    tot[:] = np.log(np.abs(np.diag(r)))\n",
    "    \n",
    "    for jj in xrange(0,nstp):\n",
    "        xpt = henon_map_2d(a,b,xpt)\n",
    "        q,r = npqr(jac_mat(a,b,xpt)*q)\n",
    "        tot += np.log(np.abs(np.diag(r)))\n",
    "    \n",
    "    return tot/nstp"
   ]
  },
  {
   "cell_type": "code",
   "execution_count": 42,
   "metadata": {},
   "outputs": [
    {
     "data": {
      "text/plain": [
       "array([  2.70386226e-01,  -2.79106898e+02])"
      ]
     },
     "execution_count": 42,
     "metadata": {},
     "output_type": "execute_result"
    }
   ],
   "source": [
    "xpt = np.zeros((1,2))\n",
    "xpt[0,0],xpt[0,1] = .1,.1\n",
    "henon_lyup_comp(1.2,.4,xpt,int(1e3))"
   ]
  },
  {
   "cell_type": "code",
   "execution_count": null,
   "metadata": {
    "collapsed": true
   },
   "outputs": [],
   "source": []
  }
 ],
 "metadata": {
  "kernelspec": {
   "display_name": "Python 2",
   "language": "python",
   "name": "python2"
  },
  "language_info": {
   "codemirror_mode": {
    "name": "ipython",
    "version": 2
   },
   "file_extension": ".py",
   "mimetype": "text/x-python",
   "name": "python",
   "nbconvert_exporter": "python",
   "pygments_lexer": "ipython2",
   "version": "2.7.13"
  }
 },
 "nbformat": 4,
 "nbformat_minor": 2
}
